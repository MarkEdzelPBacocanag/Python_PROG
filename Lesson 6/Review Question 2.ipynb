{
 "cells": [
  {
   "cell_type": "markdown",
   "id": "c3642b5c-c97e-4a9d-9d02-5c64cc43e971",
   "metadata": {},
   "source": [
    "# Review Question 2"
   ]
  },
  {
   "cell_type": "code",
   "execution_count": 4,
   "id": "3b361a5c-95a0-492c-9f6e-689bb9e2f927",
   "metadata": {},
   "outputs": [
    {
     "name": "stdout",
     "output_type": "stream",
     "text": [
      "Sunny says Bark\n"
     ]
    }
   ],
   "source": [
    "class dog:\n",
    "    Species = \"Canis Familiaris\"\n",
    "    \n",
    "    def __init__(self, name, age): \n",
    "        self.name = name\n",
    "        self.age = age\n",
    "\n",
    "    def __str__(self):\n",
    "        return f\"{self.name} is {self.age} years old\"\n",
    "        \n",
    "    def speak(self, sound):\n",
    "        return f\"{self.name} says {sound}\"\n",
    "\n",
    "Dog = dog(\"Sunny\", 5)\n",
    "\n",
    "print(Dog.speak(\"Bark\"))"
   ]
  },
  {
   "cell_type": "code",
   "execution_count": 10,
   "id": "d80464cb-1f42-422e-abbb-ef415a7554f2",
   "metadata": {},
   "outputs": [
    {
     "name": "stdout",
     "output_type": "stream",
     "text": [
      "The area of square is 16\n"
     ]
    }
   ],
   "source": [
    "class rectangle:\n",
    "    def __init__(number, length, width):\n",
    "        number.length = length\n",
    "        number.width = width\n",
    "\n",
    "    def area(number):\n",
    "        return number.length * number.width\n",
    "\n",
    "class Square(rectangle):\n",
    "    def __init__(number, sideLength):\n",
    "        super().__init__(sideLength, sideLength)\n",
    "\n",
    "\n",
    "print(f\"The area of square is {Square.area(Square(4))}\")"
   ]
  },
  {
   "cell_type": "code",
   "execution_count": null,
   "id": "313ee177-2dd3-4100-a233-4ea781c5b5de",
   "metadata": {},
   "outputs": [],
   "source": []
  }
 ],
 "metadata": {
  "kernelspec": {
   "display_name": "Python 3 (ipykernel)",
   "language": "python",
   "name": "python3"
  },
  "language_info": {
   "codemirror_mode": {
    "name": "ipython",
    "version": 3
   },
   "file_extension": ".py",
   "mimetype": "text/x-python",
   "name": "python",
   "nbconvert_exporter": "python",
   "pygments_lexer": "ipython3",
   "version": "3.13.5"
  }
 },
 "nbformat": 4,
 "nbformat_minor": 5
}
