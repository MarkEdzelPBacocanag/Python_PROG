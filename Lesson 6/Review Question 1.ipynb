{
 "cells": [
  {
   "cell_type": "markdown",
   "id": "6baa381c-b5c6-4be5-bdf0-1a85bf78b978",
   "metadata": {},
   "source": [
    "# Review Question 1"
   ]
  },
  {
   "cell_type": "code",
   "execution_count": 35,
   "id": "2df64691-0f8d-4a52-9407-1fa929e28a9f",
   "metadata": {},
   "outputs": [
    {
     "name": "stdout",
     "output_type": "stream",
     "text": [
      "Philo's coat is brown\n"
     ]
    }
   ],
   "source": [
    "class dog:\n",
    "    def __init__(self, name, age, furColor): \n",
    "        self.name = name\n",
    "        self.age = age\n",
    "        self.furColor = furColor\n",
    "        \n",
    "philo = dog(\"Philo\", 5, \"brown\")\n",
    "print(f\"{philo.name}'s coat is {philo.furColor}\")    "
   ]
  },
  {
   "cell_type": "code",
   "execution_count": 23,
   "id": "986619d1-e2b3-457e-a0d4-0cd4452fd0c0",
   "metadata": {},
   "outputs": [
    {
     "name": "stdout",
     "output_type": "stream",
     "text": [
      "The blue car has 20000 miles\n",
      "The red car has 30000 miles\n"
     ]
    }
   ],
   "source": [
    "class car:\n",
    "    def __init__(self, color, mileage):\n",
    "        self.color = color\n",
    "        self.mileage = mileage\n",
    "    \n",
    "    def description(self):\n",
    "        return f\"The {self.color} car has {self.mileage} miles\"\n",
    "\n",
    "\n",
    "car1 = car(\"blue\", 20000)\n",
    "car2 = car(\"red\", 30000)\n",
    "\n",
    "print(car1.description())\n",
    "print(car2.description())"
   ]
  },
  {
   "cell_type": "code",
   "execution_count": 26,
   "id": "a5f0f959-6b68-4de6-abc4-64e26b52d059",
   "metadata": {},
   "outputs": [
    {
     "name": "stdout",
     "output_type": "stream",
     "text": [
      "The Purple car has 100 miles\n"
     ]
    }
   ],
   "source": [
    "    def drive(self, miles):\n",
    "        self.mileage += miles\n",
    "        return f\"The {self.color} car has {self.mileage} miles\"\n",
    "\n",
    "Car = car(\"Purple\", 0)\n",
    "\n",
    "print(Car.drive(100))"
   ]
  }
 ],
 "metadata": {
  "kernelspec": {
   "display_name": "Python 3 (ipykernel)",
   "language": "python",
   "name": "python3"
  },
  "language_info": {
   "codemirror_mode": {
    "name": "ipython",
    "version": 3
   },
   "file_extension": ".py",
   "mimetype": "text/x-python",
   "name": "python",
   "nbconvert_exporter": "python",
   "pygments_lexer": "ipython3",
   "version": "3.13.5"
  }
 },
 "nbformat": 4,
 "nbformat_minor": 5
}
