{
 "cells": [
  {
   "cell_type": "markdown",
   "id": "b59e4f6f-752c-46c1-a624-57d83ede8f41",
   "metadata": {},
   "source": [
    "# Review Question 1"
   ]
  },
  {
   "cell_type": "code",
   "execution_count": 33,
   "id": "83500f94-4be8-4b94-8ba0-89324a370388",
   "metadata": {},
   "outputs": [
    {
     "name": "stdout",
     "output_type": "stream",
     "text": [
      "The string index 1 at Cardinal numbers is 'Second'\n"
     ]
    }
   ],
   "source": [
    "Cardinal_numbers = ('First', 'Second', 'Third')\n",
    "\n",
    "print(\"The string index 1 at Cardinal numbers is '\" + Cardinal_numbers[1] + \"'\")"
   ]
  },
  {
   "cell_type": "code",
   "execution_count": 23,
   "id": "ada90aff-e157-4102-84c0-c8fc6adb7b8c",
   "metadata": {},
   "outputs": [
    {
     "name": "stdout",
     "output_type": "stream",
     "text": [
      "First\n",
      "Second\n",
      "Third\n"
     ]
    }
   ],
   "source": [
    "position1, position2, position3 = Cardinal_numbers\n",
    "\n",
    "print(position1)\n",
    "print(position2)\n",
    "print(position3)"
   ]
  },
  {
   "cell_type": "code",
   "execution_count": 34,
   "id": "cc492b4e-cbbd-4710-8271-42b947e9c7b9",
   "metadata": {},
   "outputs": [
    {
     "name": "stdout",
     "output_type": "stream",
     "text": [
      "<class 'tuple'>\n",
      "('M', 'a', 'r', 'k', ' ', 'E', 'd', 'z', 'e', 'l', ' ', 'P', ' ', 'B', 'a', 'c', 'o', 'c', 'a', 'n', 'a', 'g')\n"
     ]
    }
   ],
   "source": [
    "My_name = tuple(\"Mark Edzel P Bacocanag\")\n",
    "\n",
    "print(type(My_name))\n",
    "print(My_name)"
   ]
  },
  {
   "cell_type": "code",
   "execution_count": 25,
   "id": "cfd77a79-71b2-4f4d-97a1-24cfe47ba9d3",
   "metadata": {},
   "outputs": [
    {
     "name": "stdout",
     "output_type": "stream",
     "text": [
      "Character 'x' is not in the name\n"
     ]
    }
   ],
   "source": [
    "if 'x' in My_name:\n",
    "    print(\"Character 'x' is in the name\")\n",
    "else:\n",
    "    print(\"Character 'x' is not in the name\")"
   ]
  },
  {
   "cell_type": "code",
   "execution_count": 37,
   "id": "5f364c86-222b-4e3b-ac60-3a5031f5bda2",
   "metadata": {},
   "outputs": [
    {
     "name": "stdout",
     "output_type": "stream",
     "text": [
      "('a', 'r', 'k', ' ', 'E', 'd', 'z', 'e', 'l', ' ', 'P', ' ', 'B', 'a', 'c', 'o', 'c', 'a', 'n', 'a', 'g')\n"
     ]
    }
   ],
   "source": [
    "print(My_name[1:])"
   ]
  }
 ],
 "metadata": {
  "kernelspec": {
   "display_name": "Python 3 (ipykernel)",
   "language": "python",
   "name": "python3"
  },
  "language_info": {
   "codemirror_mode": {
    "name": "ipython",
    "version": 3
   },
   "file_extension": ".py",
   "mimetype": "text/x-python",
   "name": "python",
   "nbconvert_exporter": "python",
   "pygments_lexer": "ipython3",
   "version": "3.13.5"
  }
 },
 "nbformat": 4,
 "nbformat_minor": 5
}
