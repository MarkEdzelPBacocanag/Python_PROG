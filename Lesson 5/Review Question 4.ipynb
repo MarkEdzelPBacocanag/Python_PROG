{
 "cells": [
  {
   "cell_type": "markdown",
   "id": "62e7677c-a8b6-4d73-9c0a-1af3a0838c41",
   "metadata": {},
   "source": [
    "# Review Question 4"
   ]
  },
  {
   "cell_type": "code",
   "execution_count": 1,
   "id": "279a024a-41b4-4fb3-8b8e-0a2b53eeb8b7",
   "metadata": {},
   "outputs": [],
   "source": [
    "Captains = {}"
   ]
  },
  {
   "cell_type": "code",
   "execution_count": 12,
   "id": "bac54c87-5fb7-4471-9915-740a2e0e7b2b",
   "metadata": {},
   "outputs": [],
   "source": [
    "Captains['Enterprise'] = 'Picard'\n",
    "Captains['Voyager'] = 'Janeway'\n",
    "Captains['Defiant'] = 'Sisko'"
   ]
  },
  {
   "cell_type": "code",
   "execution_count": 13,
   "id": "dc96c70e-97e3-491f-99df-16e47a398b34",
   "metadata": {},
   "outputs": [],
   "source": [
    "if 'Enterprise' not in Captains:\n",
    "    Captains['Enterprise'] = 'Unknown'"
   ]
  },
  {
   "cell_type": "code",
   "execution_count": 17,
   "id": "cb8318b5-0fa4-4164-9d17-4418d572a233",
   "metadata": {},
   "outputs": [],
   "source": [
    "if 'Discovery' not in Captains:\n",
    "    Captains['Discovery'] = 'Unknown'"
   ]
  },
  {
   "cell_type": "code",
   "execution_count": 8,
   "id": "393f6b59-fa61-4435-9efb-acb188db60cf",
   "metadata": {},
   "outputs": [
    {
     "name": "stdout",
     "output_type": "stream",
     "text": [
      "The Enterprice is captained by Picard\n",
      "The Voyager is captained by Janeway\n",
      "The Dafiant is captained by Sisko\n",
      "The Enterprise is captained by Unknown\n",
      "The Discovery is captained by Unknown\n"
     ]
    }
   ],
   "source": [
    "for ship, captains in Captains.items():\n",
    "    print(f\"The {ship} is captained by {captains}\")"
   ]
  },
  {
   "cell_type": "code",
   "execution_count": 18,
   "id": "9a31d7c3-9d2d-48b8-bbe0-07528f24b4eb",
   "metadata": {},
   "outputs": [],
   "source": [
    "del Captains['Discovery']\n"
   ]
  },
  {
   "cell_type": "code",
   "execution_count": 22,
   "id": "cc4a1c77-3f59-4053-97b2-c909167cb65e",
   "metadata": {},
   "outputs": [
    {
     "name": "stdout",
     "output_type": "stream",
     "text": [
      "The Enterprise is captained by Picard\n",
      "The Voyager is captained by Janeway\n",
      "The Defiant is captained by Sisko\n"
     ]
    }
   ],
   "source": [
    "captains = dict(\n",
    "    Enterprise = 'Picard',\n",
    "    Voyager = 'Janeway',\n",
    "    Defiant = 'Sisko'\n",
    ")\n",
    "\n",
    "for ship, captain in captains.items():\n",
    "    print(f\"The {ship} is captained by {captain}\")"
   ]
  },
  {
   "cell_type": "code",
   "execution_count": 23,
   "id": "15de181b-07c0-4383-8566-79c6d01019f8",
   "metadata": {},
   "outputs": [
    {
     "name": "stdout",
     "output_type": "stream",
     "text": [
      "The capital of Alabama is Montgomery.\n",
      "The capital of Alaska is Juneau.\n",
      "The capital of Arizona is Phoenix.\n",
      "The capital of Arkansas is Little Rock.\n",
      "The capital of California is Sacramento.\n",
      "The capital of Colorado is Denver.\n",
      "The capital of Connecticut is Hartford.\n",
      "The capital of Delaware is Dover.\n",
      "The capital of Florida is Tallahassee.\n",
      "The capital of Georgia is Atlanta.\n"
     ]
    }
   ],
   "source": [
    "capitalsDictionary = {\n",
    "    'Alabama': 'Montgomery',\n",
    "    'Alaska': 'Juneau',\n",
    "    'Arizona': 'Phoenix',\n",
    "    'Arkansas': 'Little Rock',\n",
    "    'California': 'Sacramento',\n",
    "    'Colorado': 'Denver',\n",
    "    'Connecticut': 'Hartford',\n",
    "    'Delaware': 'Dover',\n",
    "    'Florida': 'Tallahassee',\n",
    "    'Georgia': 'Atlanta',\n",
    "}\n",
    "for state, capital in capitalsDictionary.items():\n",
    "    print(f\"The capital of {state} is {capital}.\")"
   ]
  },
  {
   "cell_type": "code",
   "execution_count": null,
   "id": "ac6b44f7-c95e-448a-9983-4923bdcbc9a0",
   "metadata": {},
   "outputs": [],
   "source": []
  }
 ],
 "metadata": {
  "kernelspec": {
   "display_name": "Python 3 (ipykernel)",
   "language": "python",
   "name": "python3"
  },
  "language_info": {
   "codemirror_mode": {
    "name": "ipython",
    "version": 3
   },
   "file_extension": ".py",
   "mimetype": "text/x-python",
   "name": "python",
   "nbconvert_exporter": "python",
   "pygments_lexer": "ipython3",
   "version": "3.13.5"
  }
 },
 "nbformat": 4,
 "nbformat_minor": 5
}
