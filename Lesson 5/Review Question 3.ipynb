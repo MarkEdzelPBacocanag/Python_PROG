{
 "cells": [
  {
   "cell_type": "markdown",
   "id": "fcd949a2-4b6c-4dee-a5b4-9313cf5ae65b",
   "metadata": {},
   "source": [
    "# Review Question 3"
   ]
  },
  {
   "cell_type": "code",
   "execution_count": 35,
   "id": "97e82899-f2a0-493e-a612-5d448d6d0f5a",
   "metadata": {},
   "outputs": [
    {
     "data": {
      "text/plain": [
       "((2, 1), (4, 3))"
      ]
     },
     "execution_count": 35,
     "metadata": {},
     "output_type": "execute_result"
    }
   ],
   "source": [
    "tupleData = ((2,1),(4,3))\n",
    "tupleData"
   ]
  },
  {
   "cell_type": "code",
   "execution_count": 17,
   "id": "53db4717-9069-4b8f-99f3-7e4cbf9e7dc1",
   "metadata": {},
   "outputs": [
    {
     "name": "stdout",
     "output_type": "stream",
     "text": [
      "Row 1 sum: 3\n",
      "Row 2 sum: 7\n"
     ]
    }
   ],
   "source": [
    "row = 1\n",
    "for items in tupleData:\n",
    "    print(f\"Row {row} sum: {sum(items)}\")\n",
    "    row += 1"
   ]
  },
  {
   "cell_type": "code",
   "execution_count": 18,
   "id": "134b2800-f228-491b-b2ca-3ba2ebadb7cf",
   "metadata": {},
   "outputs": [
    {
     "name": "stdout",
     "output_type": "stream",
     "text": [
      "((2, 1), (4, 3))\n"
     ]
    }
   ],
   "source": [
    "numberList = tupleData[0:2]\n",
    "print(numberList)"
   ]
  },
  {
   "cell_type": "code",
   "execution_count": 26,
   "id": "c954f8ac-311e-4ad9-b3b1-4f052a228dfb",
   "metadata": {},
   "outputs": [
    {
     "name": "stdout",
     "output_type": "stream",
     "text": [
      "Unsorted: (1, 3, 2, 5, 4)\n",
      "Sorted: (1, 2, 3, 4, 5)\n"
     ]
    }
   ],
   "source": [
    "data = (1,3,2,5,4)\n",
    "numberList = list(data)\n",
    "numberList.sort()\n",
    "\n",
    "print(f\"Unsorted: {data}\")\n",
    "print(f\"Sorted: {tuple(numberList)}\")"
   ]
  },
  {
   "cell_type": "markdown",
   "id": "0dedcc24-6b12-4655-8a9d-847f7f98ceb4",
   "metadata": {},
   "source": [
    "# Challenge: List of lists"
   ]
  },
  {
   "cell_type": "code",
   "execution_count": 29,
   "id": "85f7d3eb-b7f3-4d23-8d61-91b5709641f2",
   "metadata": {},
   "outputs": [
    {
     "data": {
      "text/plain": [
       "[['California Institute of Technology', 2175, 37704],\n",
       " ['Harvard', 19627, 39849],\n",
       " ['Massachusets Institute of Technology', 10566, 40732],\n",
       " ['Princeton', 7802, 37000],\n",
       " ['Rice', 5872, 35551],\n",
       " ['Stanford', 19535, 40569],\n",
       " ['Yale', 11701, 40500]]"
      ]
     },
     "execution_count": 29,
     "metadata": {},
     "output_type": "execute_result"
    }
   ],
   "source": [
    "universities = [\n",
    "    ['California Institute of Technology', 2175, 37704],\n",
    "    ['Harvard', 19627, 39849],\n",
    "    ['Massachusets Institute of Technology', 10566, 40732],\n",
    "    ['Princeton', 7802, 37000],\n",
    "    ['Rice', 5872, 35551],\n",
    "    ['Stanford', 19535, 40569],\n",
    "    ['Yale', 11701, 40500]\n",
    "]\n",
    "\n",
    "universities"
   ]
  },
  {
   "cell_type": "markdown",
   "id": "c245a5a4-57af-43c4-ad75-bdfa93460c64",
   "metadata": {},
   "source": [
    "# Challenge: Wax Poetic"
   ]
  },
  {
   "cell_type": "code",
   "execution_count": 34,
   "id": "4c2db1d6-04fd-4b9d-bf1e-6ecd8c0e0209",
   "metadata": {},
   "outputs": [
    {
     "name": "stdout",
     "output_type": "stream",
     "text": [
      "\n",
      "Nouns: ['FOSSIL', 'HORSE', 'AARDVARK', 'JUDGE', 'CHEF', 'MANGO', 'EXTROVERT', 'GORILLA']\n",
      "Verbs: ['KICKS', 'JINGLES', 'BOUNCES', 'SLURPS', 'MEOWS', 'EXPLODES', 'CURDLES']\n",
      "Adjectives: ['FURRY', 'BALDING', 'INCREDULOUS', 'FRAGRANT', 'EXUBERANT', 'GLISTENING']\n",
      "Prepositions: ['AGAINST', 'AFTER', 'INTO', 'BENEATH', 'UPON', 'FOR', 'IN', 'LIKE', 'OVER', 'WITHIN']\n",
      "Adverbs: ['CURIOUSLY', 'FURIOUSLY', 'SENSUOUSLY', 'EXTRAVAGANTLY', 'TANTALIZINGLY']\n",
      "\n"
     ]
    }
   ],
   "source": [
    "nouns = [\"FOSSIL\", \"HORSE\", \"AARDVARK\", \"JUDGE\", \"CHEF\", \"MANGO\", \"EXTROVERT\", \"GORILLA\"]\n",
    "verbs = [\"KICKS\", \"JINGLES\", \"BOUNCES\", \"SLURPS\", \"MEOWS\", \"EXPLODES\", \"CURDLES\"]\n",
    "adjectives = [\"FURRY\", \"BALDING\", \"INCREDULOUS\", \"FRAGRANT\", \"EXUBERANT\", \"GLISTENING\"]\n",
    "prepositions = [\"AGAINST\", \"AFTER\", \"INTO\", \"BENEATH\", \"UPON\", \"FOR\", \"IN\", \"LIKE\", \"OVER\", \"WITHIN\"]\n",
    "adverbs = [\"CURIOUSLY\", \"FURIOUSLY\", \"SENSUOUSLY\", \"EXTRAVAGANTLY\", \"TANTALIZINGLY\"]\n",
    "\n",
    "print(f\"\"\"\n",
    "Nouns: {nouns}\n",
    "Verbs: {verbs}\n",
    "Adjectives: {adjectives}\n",
    "Prepositions: {prepositions}\n",
    "Adverbs: {adverbs}\n",
    "\"\"\")"
   ]
  },
  {
   "cell_type": "code",
   "execution_count": null,
   "id": "f2d81017-7941-4371-841c-26bc66f32ad8",
   "metadata": {},
   "outputs": [],
   "source": []
  }
 ],
 "metadata": {
  "kernelspec": {
   "display_name": "Python 3 (ipykernel)",
   "language": "python",
   "name": "python3"
  },
  "language_info": {
   "codemirror_mode": {
    "name": "ipython",
    "version": 3
   },
   "file_extension": ".py",
   "mimetype": "text/x-python",
   "name": "python",
   "nbconvert_exporter": "python",
   "pygments_lexer": "ipython3",
   "version": "3.13.5"
  }
 },
 "nbformat": 4,
 "nbformat_minor": 5
}
