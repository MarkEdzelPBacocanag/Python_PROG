{
 "cells": [
  {
   "cell_type": "markdown",
   "id": "437d180f-ca2e-4ff4-a894-be76e2520b07",
   "metadata": {},
   "source": [
    "# Review Question 1\n"
   ]
  },
  {
   "cell_type": "code",
   "execution_count": 8,
   "id": "d1bd5a58-c45e-43f3-b906-e54f9b6280af",
   "metadata": {},
   "outputs": [
    {
     "name": "stdout",
     "output_type": "stream",
     "text": [
      "1. The length of 'Hello, world' is 13\n",
      "2. daven, world!\n",
      "3. Hello, world\n",
      "4. fox\n"
     ]
    }
   ],
   "source": [
    "\n",
    "#checks the length of the string\n",
    "string = \"Hello, world!\"\n",
    "print(\"1. The length of 'Hello, world' is\",len(string))\n",
    "\n",
    "#string slicing\n",
    "word = \"daven\"\n",
    "print(\"2. \" + word + string[5:])\n",
    "\n",
    "\n",
    "string1 = \"Hello, \"\n",
    "string2 = \"world\"\n",
    "print(\"3. \" + string1 + string2)\n",
    "\n",
    "\n",
    "string = \"The quick brown fox jump over the lazy dog #1234567890\"\n",
    "print(\"4. \" + string[16:19])"
   ]
  },
  {
   "cell_type": "markdown",
   "id": "0ad60544-161e-4cf4-a9d7-d7da178a3dfc",
   "metadata": {},
   "source": []
  }
 ],
 "metadata": {
  "kernelspec": {
   "display_name": "Python 3 (ipykernel)",
   "language": "python",
   "name": "python3"
  },
  "language_info": {
   "codemirror_mode": {
    "name": "ipython",
    "version": 3
   },
   "file_extension": ".py",
   "mimetype": "text/x-python",
   "name": "python",
   "nbconvert_exporter": "python",
   "pygments_lexer": "ipython3",
   "version": "3.10.18"
  }
 },
 "nbformat": 4,
 "nbformat_minor": 5
}
