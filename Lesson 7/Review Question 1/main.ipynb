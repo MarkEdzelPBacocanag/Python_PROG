{
 "cells": [
  {
   "cell_type": "markdown",
   "id": "6349396a-9b54-4a87-a443-292673719aa6",
   "metadata": {},
   "source": [
    "# Review Question 1\n",
    "\n",
    "# main.py"
   ]
  },
  {
   "cell_type": "code",
   "execution_count": 7,
   "id": "f17194a9-ef66-4723-8927-43d1bea486c0",
   "metadata": {},
   "outputs": [
    {
     "name": "stdout",
     "output_type": "stream",
     "text": [
      "Hello, Real Python\n"
     ]
    }
   ],
   "source": [
    "from greeter import greet\n",
    "\n",
    "greet(\"Real Python\")"
   ]
  }
 ],
 "metadata": {
  "kernelspec": {
   "display_name": "Python [conda env:base] *",
   "language": "python",
   "name": "conda-base-py"
  },
  "language_info": {
   "codemirror_mode": {
    "name": "ipython",
    "version": 3
   },
   "file_extension": ".py",
   "mimetype": "text/x-python",
   "name": "python",
   "nbconvert_exporter": "python",
   "pygments_lexer": "ipython3",
   "version": "3.13.5"
  }
 },
 "nbformat": 4,
 "nbformat_minor": 5
}
