{
 "cells": [
  {
   "cell_type": "markdown",
   "id": "ef100c77-5090-4b41-85ed-04ddc6e164bb",
   "metadata": {},
   "source": [
    "# Review Question 2"
   ]
  },
  {
   "cell_type": "code",
   "execution_count": 3,
   "id": "ce5d3fcb-0a88-45da-bdb9-da066d7b0803",
   "metadata": {},
   "outputs": [
    {
     "name": "stdout",
     "output_type": "stream",
     "text": [
      "THE AREA OF A 5-B-8 IS 40\n"
     ]
    }
   ],
   "source": [
    "from package_exercises.string import shout\n",
    "from package_exercises.math import area\n",
    "\n",
    "total = area(5, 8)\n",
    "\n",
    "print(shout(f\"The area of a 5-b-8 is {total}\"))\n"
   ]
  },
  {
   "cell_type": "code",
   "execution_count": null,
   "id": "a161aaff-e399-4dfb-b14b-47923e65ae2c",
   "metadata": {},
   "outputs": [],
   "source": []
  }
 ],
 "metadata": {
  "kernelspec": {
   "display_name": "Python [conda env:base] *",
   "language": "python",
   "name": "conda-base-py"
  },
  "language_info": {
   "codemirror_mode": {
    "name": "ipython",
    "version": 3
   },
   "file_extension": ".py",
   "mimetype": "text/x-python",
   "name": "python",
   "nbconvert_exporter": "python",
   "pygments_lexer": "ipython3",
   "version": "3.13.5"
  }
 },
 "nbformat": 4,
 "nbformat_minor": 5
}
