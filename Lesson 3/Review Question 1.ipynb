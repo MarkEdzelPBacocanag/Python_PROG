{
 "cells": [
  {
   "cell_type": "markdown",
   "id": "734f526b-edd3-4e27-bd8d-fad3b15219fe",
   "metadata": {},
   "source": [
    "# Review Question 1"
   ]
  },
  {
   "cell_type": "code",
   "execution_count": 1,
   "id": "ff4f9a6e-b5a5-474f-a1b9-bb8d80d04e89",
   "metadata": {},
   "outputs": [
    {
     "name": "stdout",
     "output_type": "stream",
     "text": [
      "1\n",
      "8\n",
      "125\n"
     ]
    }
   ],
   "source": [
    "def cube(number):\n",
    "    return number ** 3\n",
    "\n",
    "print(cube(1))\n",
    "print(cube(2))\n",
    "print(cube(5))"
   ]
  },
  {
   "cell_type": "code",
   "execution_count": 4,
   "id": "c6897440-7966-467a-aa68-26f3e7ef5ec5",
   "metadata": {},
   "outputs": [
    {
     "name": "stdout",
     "output_type": "stream",
     "text": [
      "Hello, Daven!\n",
      "Hello, Clyde!\n",
      "Hello, Joren!\n"
     ]
    }
   ],
   "source": [
    "def greet(name):\n",
    "    print(\"Hello, \" + name + \"!\")\n",
    "\n",
    "\n",
    "greet(\"Daven\")\n",
    "greet(\"Clyde\")\n",
    "greet(\"Joren\")"
   ]
  },
  {
   "cell_type": "markdown",
   "id": "a78aa1b8-1510-4798-94f4-e71b4328fb3c",
   "metadata": {},
   "source": [
    "# Challange: Conver Temperatures"
   ]
  },
  {
   "cell_type": "code",
   "execution_count": 27,
   "id": "9a4eb2b0-53f2-447c-bd3b-741d73a60b5a",
   "metadata": {},
   "outputs": [
    {
     "name": "stdin",
     "output_type": "stream",
     "text": [
      "Enter a temperature in degrees F:  72\n"
     ]
    },
    {
     "name": "stdout",
     "output_type": "stream",
     "text": [
      "72.0 degrees F = 22.22 degrees C\n"
     ]
    },
    {
     "name": "stdin",
     "output_type": "stream",
     "text": [
      "Enter a temperature in degrees C:  37\n"
     ]
    },
    {
     "name": "stdout",
     "output_type": "stream",
     "text": [
      "37.0 degrees C = 98.60 degrees F\n"
     ]
    }
   ],
   "source": [
    "\n",
    "def convert_cel_to_far(celsius):\n",
    "    return (celsius * 9/5) + 32\n",
    "\n",
    "def convert_far_to_cel(fahrenheit):\n",
    "    return (fahrenheit - 32) * 5/9\n",
    "    \n",
    "celsius = float(input(\"Enter a temperature in degrees F: \"))\n",
    "print(f\"{celsius} degrees F = {convert_far_to_cel(celsius):.2f} degrees C\")\n",
    "fahrenheit = float(input(\"Enter a temperature in degrees C: \"))\n",
    "print(f\"{fahrenheit} degrees C = {convert_cel_to_far(fahrenheit):.2f} degrees F\")"
   ]
  },
  {
   "cell_type": "code",
   "execution_count": null,
   "id": "d9c93b8c-3537-4548-b125-21f2e19bc8cb",
   "metadata": {},
   "outputs": [],
   "source": []
  }
 ],
 "metadata": {
  "kernelspec": {
   "display_name": "Python 3 (ipykernel)",
   "language": "python",
   "name": "python3"
  },
  "language_info": {
   "codemirror_mode": {
    "name": "ipython",
    "version": 3
   },
   "file_extension": ".py",
   "mimetype": "text/x-python",
   "name": "python",
   "nbconvert_exporter": "python",
   "pygments_lexer": "ipython3",
   "version": "3.13.5"
  }
 },
 "nbformat": 4,
 "nbformat_minor": 5
}
