{
 "cells": [
  {
   "cell_type": "markdown",
   "id": "5abdb50e-33ca-4456-a357-85c45ce1808f",
   "metadata": {},
   "source": [
    "# 1st Long Exam Date:09/10/2025"
   ]
  },
  {
   "cell_type": "markdown",
   "id": "5bf72223-14da-403b-99cd-c2bb80777f81",
   "metadata": {},
   "source": [
    "# Mark Edzel P. Bacocanag ID:21517602"
   ]
  },
  {
   "cell_type": "code",
   "execution_count": 2,
   "id": "da06c060-9a42-4bb8-a274-7d9a9a945410",
   "metadata": {},
   "outputs": [
    {
     "name": "stdin",
     "output_type": "stream",
     "text": [
      "Enter your name:  Mark\n"
     ]
    },
    {
     "name": "stdout",
     "output_type": "stream",
     "text": [
      "Hello Mark\n"
     ]
    }
   ],
   "source": [
    "#Question 1\n",
    "\n",
    "prompt = input(\"Enter your name: \")\n",
    "print(\"Hello \" + prompt)"
   ]
  },
  {
   "cell_type": "code",
   "execution_count": 3,
   "id": "c090c799-3682-4ba5-b956-f132ac99a449",
   "metadata": {},
   "outputs": [
    {
     "name": "stdin",
     "output_type": "stream",
     "text": [
      "Enter a number:  5\n"
     ]
    },
    {
     "name": "stdout",
     "output_type": "stream",
     "text": [
      "The sum of the first positive integer is 2.5\n"
     ]
    }
   ],
   "source": [
    "#Question 2\n",
    "\n",
    "str = input(\"Enter a number: \")\n",
    "for n in range(int(str)):\n",
    "    n = n + 1\n",
    "    sum = n / 2\n",
    "print(\"The sum of the first positive integer is\", sum)"
   ]
  },
  {
   "cell_type": "code",
   "execution_count": 6,
   "id": "f1f8f9c0-768e-46c3-92d2-50e729e353aa",
   "metadata": {},
   "outputs": [
    {
     "name": "stdin",
     "output_type": "stream",
     "text": [
      "Enter an Alphabet:  c\n"
     ]
    },
    {
     "name": "stdout",
     "output_type": "stream",
     "text": [
      "You entered a consonant\n"
     ]
    }
   ],
   "source": [
    "# Question 3\n",
    "\n",
    "str = input(\"Enter an Alphabet: \")\n",
    "str.lower()\n",
    "if str == \"a\" or str == 'e' or str == 'i' or str == 'o' or str == 'u':\n",
    "    print(\"You entered a vowel!\")\n",
    "elif str == 'y':\n",
    "    print(\"Y somtimes is a vowel, and sometimes y is a consonant.\")\n",
    "else:\n",
    "    print(\"You entered a consonant\")"
   ]
  },
  {
   "cell_type": "code",
   "execution_count": null,
   "id": "cec835e9-716b-4bf4-bf9d-fed8f685a41c",
   "metadata": {},
   "outputs": [],
   "source": [
    "#Question 4"
   ]
  },
  {
   "cell_type": "code",
   "execution_count": 7,
   "id": "0c3ad1c0-24ef-4e84-86b4-211af5f0fd52",
   "metadata": {},
   "outputs": [
    {
     "name": "stdin",
     "output_type": "stream",
     "text": [
      "Enter length for A in right triangle:  25\n",
      "Enter lenght for B in right triangle:  10\n"
     ]
    },
    {
     "name": "stdout",
     "output_type": "stream",
     "text": [
      "The hypotenuse of the right triangle is 26.92582403567252\n"
     ]
    }
   ],
   "source": [
    "#Question 5\n",
    "\n",
    "A = int(input(\"Enter length for A in right triangle: \"))\n",
    "B = int(input(\"Enter lenght for B in right triangle: \"))\n",
    "h = ((A ** 2) + (B ** 2))**0.50\n",
    "print(\"The hypotenuse of the right triangle is\", h)"
   ]
  }
 ],
 "metadata": {
  "kernelspec": {
   "display_name": "Python 3 (ipykernel)",
   "language": "python",
   "name": "python3"
  },
  "language_info": {
   "codemirror_mode": {
    "name": "ipython",
    "version": 3
   },
   "file_extension": ".py",
   "mimetype": "text/x-python",
   "name": "python",
   "nbconvert_exporter": "python",
   "pygments_lexer": "ipython3",
   "version": "3.13.5"
  }
 },
 "nbformat": 4,
 "nbformat_minor": 5
}
