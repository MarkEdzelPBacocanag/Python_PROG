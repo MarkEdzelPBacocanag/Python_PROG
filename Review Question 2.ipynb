{
 "cells": [
  {
   "cell_type": "markdown",
   "id": "35806371-1b6f-4d9b-81ea-67baf8a0b95d",
   "metadata": {},
   "source": [
    "# Review Question 2"
   ]
  },
  {
   "cell_type": "code",
   "execution_count": 30,
   "id": "709621c6-336f-4a5d-9ec1-a6c857e5f705",
   "metadata": {},
   "outputs": [
    {
     "name": "stdout",
     "output_type": "stream",
     "text": [
      "Animals, Badger, Honey Bee, HoneyBadger\n",
      "to lowered case\n",
      "animals, badger, honey bee, honeybadger\n",
      "\n",
      "\n",
      "\n",
      "Animals, Badger, Honey Bee, HoneyBadger\n",
      "to upper case\n",
      "ANIMALS, BADGER, HONEY BEE, HONEYBADGER\n"
     ]
    }
   ],
   "source": [
    "string = \"Animals, Badger, Honey Bee, HoneyBadger\"\n",
    "lower = string.lower()\n",
    "#lowercase\n",
    "print(string + \"\\nto lowered case\\n\" + lower)\n",
    "print(\"\\n\\n\")\n",
    "#uppercase\n",
    "print(string + \"\\nto upper case\\n\" + string.upper())"
   ]
  },
  {
   "cell_type": "code",
   "execution_count": 22,
   "id": "46508653-295b-4d14-b08f-b20d2445987e",
   "metadata": {},
   "outputs": [
    {
     "name": "stdout",
     "output_type": "stream",
     "text": [
      "Fillet Mignon\n",
      "Brisket\n"
     ]
    }
   ],
   "source": [
    "string = \" Fillet Mignon\"\n",
    "string2 = \"Brisket \"\n",
    "\n",
    "print(string.strip())\n",
    "print(string2.strip())"
   ]
  },
  {
   "cell_type": "code",
   "execution_count": 33,
   "id": "43e64e31-5dfe-4292-9186-18e1696f652f",
   "metadata": {},
   "outputs": [
    {
     "name": "stdout",
     "output_type": "stream",
     "text": [
      "Becomes starts with be is False\n",
      "becomes starts with be is True\n"
     ]
    }
   ],
   "source": [
    "string = \"Becomes\"\n",
    "string2 = \"becomes\"\n",
    "\n",
    "print(\"Becomes starts with be is\", string.startswith('be'))\n",
    "print(\"becomes starts with be is\", string2.startswith('be'))"
   ]
  },
  {
   "cell_type": "code",
   "execution_count": 34,
   "id": "93d99877-3489-439c-8919-261f177eef47",
   "metadata": {},
   "outputs": [
    {
     "name": "stdout",
     "output_type": "stream",
     "text": [
      "Becomes starts with be is True\n",
      "becomes starts with be is True\n"
     ]
    }
   ],
   "source": [
    "string = \"Becomes\"\n",
    "string2 = \"becomes\"\n",
    "lower = string.lower()\n",
    "print(\"Becomes starts with be is\", lower.startswith('be'))\n",
    "print(\"becomes starts with be is\", string2.startswith('be'))"
   ]
  },
  {
   "cell_type": "code",
   "execution_count": null,
   "id": "8fec0157-d6f9-4442-bc4b-0140be3fb61c",
   "metadata": {},
   "outputs": [],
   "source": []
  }
 ],
 "metadata": {
  "kernelspec": {
   "display_name": "Python 3 (ipykernel)",
   "language": "python",
   "name": "python3"
  },
  "language_info": {
   "codemirror_mode": {
    "name": "ipython",
    "version": 3
   },
   "file_extension": ".py",
   "mimetype": "text/x-python",
   "name": "python",
   "nbconvert_exporter": "python",
   "pygments_lexer": "ipython3",
   "version": "3.10.18"
  }
 },
 "nbformat": 4,
 "nbformat_minor": 5
}
