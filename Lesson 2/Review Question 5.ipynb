{
 "cells": [
  {
   "cell_type": "markdown",
   "id": "81c1438b-1d4c-4250-86a0-0d1acc7e0353",
   "metadata": {},
   "source": [
    "# Review Question 5"
   ]
  },
  {
   "cell_type": "code",
   "execution_count": 9,
   "id": "d1a3859d-cec4-4ae8-885a-04b4318045bf",
   "metadata": {},
   "outputs": [
    {
     "name": "stdout",
     "output_type": "stream",
     "text": [
      "The 3 raised to the power of .125 is 1.147\n"
     ]
    }
   ],
   "source": [
    "number = 3 ** .125\n",
    "\n",
    "print(f\"The 3 raised to the power of .125 is {number:.3f}\")"
   ]
  },
  {
   "cell_type": "code",
   "execution_count": 12,
   "id": "24696817-85ea-4d81-91cd-87185ac9f95c",
   "metadata": {},
   "outputs": [
    {
     "name": "stdout",
     "output_type": "stream",
     "text": [
      "$150,000.00\n"
     ]
    }
   ],
   "source": [
    "number = 150000\n",
    "\n",
    "print(f\"${number:,.2f}\")"
   ]
  },
  {
   "cell_type": "code",
   "execution_count": 18,
   "id": "95948eb5-b47e-4fd2-8b3d-0d472c32deb0",
   "metadata": {},
   "outputs": [
    {
     "name": "stdout",
     "output_type": "stream",
     "text": [
      "20%\n"
     ]
    }
   ],
   "source": [
    "number = 2 / 10\n",
    "\n",
    "print(f\"{number:.0%}\")"
   ]
  }
 ],
 "metadata": {
  "kernelspec": {
   "display_name": "Python 3 (ipykernel)",
   "language": "python",
   "name": "python3"
  },
  "language_info": {
   "codemirror_mode": {
    "name": "ipython",
    "version": 3
   },
   "file_extension": ".py",
   "mimetype": "text/x-python",
   "name": "python",
   "nbconvert_exporter": "python",
   "pygments_lexer": "ipython3",
   "version": "3.10.18"
  }
 },
 "nbformat": 4,
 "nbformat_minor": 5
}
