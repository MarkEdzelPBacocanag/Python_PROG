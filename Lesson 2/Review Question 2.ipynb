{
 "cells": [
  {
   "cell_type": "markdown",
   "id": "29fa5ca7-a55e-4c63-86a4-73ef9e0efd8c",
   "metadata": {},
   "source": [
    "# Review Question 2"
   ]
  },
  {
   "cell_type": "code",
   "execution_count": 3,
   "id": "7ad7875e-1868-45b8-9b35-892a8244be0b",
   "metadata": {},
   "outputs": [
    {
     "name": "stdin",
     "output_type": "stream",
     "text": [
      "Enter a base:  2\n",
      "Enter an exponent:  23\n"
     ]
    },
    {
     "name": "stdout",
     "output_type": "stream",
     "text": [
      "2 raised to the power of  23  =  8388608.0\n"
     ]
    }
   ],
   "source": [
    "number1 = input(\"Enter a base: \")\n",
    "number2 = input(\"Enter an exponent: \")\n",
    "\n",
    "result = float(number1)**float(number2)\n",
    "print(number1, \"raised to the power of \", number2, \" = \", result)"
   ]
  }
 ],
 "metadata": {
  "kernelspec": {
   "display_name": "Python 3 (ipykernel)",
   "language": "python",
   "name": "python3"
  },
  "language_info": {
   "codemirror_mode": {
    "name": "ipython",
    "version": 3
   },
   "file_extension": ".py",
   "mimetype": "text/x-python",
   "name": "python",
   "nbconvert_exporter": "python",
   "pygments_lexer": "ipython3",
   "version": "3.10.18"
  }
 },
 "nbformat": 4,
 "nbformat_minor": 5
}
