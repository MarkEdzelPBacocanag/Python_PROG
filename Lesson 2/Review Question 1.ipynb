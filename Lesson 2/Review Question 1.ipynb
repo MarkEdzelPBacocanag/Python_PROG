{
 "cells": [
  {
   "cell_type": "markdown",
   "id": "c87bb6b9-682b-4a94-8fa8-36c7974986a9",
   "metadata": {},
   "source": [
    "# Review Question 1"
   ]
  },
  {
   "cell_type": "code",
   "execution_count": 2,
   "id": "905fc418-baec-4acb-9557-e3847340cfd9",
   "metadata": {},
   "outputs": [
    {
     "name": "stdout",
     "output_type": "stream",
     "text": [
      "Number 1:  25000000\n",
      "Number 2:  25000000\n"
     ]
    }
   ],
   "source": [
    "num1 = 25_000_000\n",
    "num2 = 25000000\n",
    "\n",
    "print(\"Number 1: \", num1)\n",
    "print(\"Number 2: \", num2)"
   ]
  },
  {
   "cell_type": "code",
   "execution_count": 3,
   "id": "0cb89743-9a60-439c-848e-3c94fd19006e",
   "metadata": {},
   "outputs": [
    {
     "name": "stdout",
     "output_type": "stream",
     "text": [
      "Number:  175000.0\n"
     ]
    }
   ],
   "source": [
    "number = 175000e0\n",
    "\n",
    "print(\"Number: \",number)"
   ]
  },
  {
   "cell_type": "code",
   "execution_count": 6,
   "id": "b8446db6-e2e7-4091-aa0c-bfc565ed7d55",
   "metadata": {},
   "outputs": [
    {
     "name": "stdout",
     "output_type": "stream",
     "text": [
      "Number:  inf\n"
     ]
    }
   ],
   "source": [
    "number = 2e308\n",
    "\n",
    "print(\"Number: \", number)"
   ]
  }
 ],
 "metadata": {
  "kernelspec": {
   "display_name": "Python 3 (ipykernel)",
   "language": "python",
   "name": "python3"
  },
  "language_info": {
   "codemirror_mode": {
    "name": "ipython",
    "version": 3
   },
   "file_extension": ".py",
   "mimetype": "text/x-python",
   "name": "python",
   "nbconvert_exporter": "python",
   "pygments_lexer": "ipython3",
   "version": "3.10.18"
  }
 },
 "nbformat": 4,
 "nbformat_minor": 5
}
