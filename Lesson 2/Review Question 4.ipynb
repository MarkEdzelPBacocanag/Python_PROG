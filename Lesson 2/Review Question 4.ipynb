{
 "cells": [
  {
   "cell_type": "markdown",
   "id": "c875dc9b-630f-4a80-80a5-896735e8ffb0",
   "metadata": {},
   "source": [
    "# Review Question 4"
   ]
  },
  {
   "cell_type": "code",
   "execution_count": 2,
   "id": "424c7297-eeaa-4159-a281-966d4b9371e4",
   "metadata": {},
   "outputs": [
    {
     "name": "stdin",
     "output_type": "stream",
     "text": [
      "Enter a number:  1.5\n",
      "Enter another number:  .5\n"
     ]
    },
    {
     "name": "stdout",
     "output_type": "stream",
     "text": [
      "The difference between 1.5 and .5 is an integer? True\n"
     ]
    }
   ],
   "source": [
    "number1 = input(\"Enter a number: \")\n",
    "number2 = input(\"Enter another number: \")\n",
    "\n",
    "def is_integer(number1, number2):\n",
    "    try:\n",
    "        result = float(number1) - float(number2)\n",
    "        return result.is_integer()\n",
    "    except ValueError:\n",
    "        return false\n",
    "\n",
    "print(\n",
    "    \"The difference between\", number1, \"and\", number2, \"is an integer?\", is_integer(number1, number2)\n",
    ") "
   ]
  },
  {
   "cell_type": "code",
   "execution_count": 3,
   "id": "b3bd0db6-851a-45a7-b99f-f8dfdd8a3a4b",
   "metadata": {},
   "outputs": [
    {
     "name": "stdin",
     "output_type": "stream",
     "text": [
      "Enter a number:  1.5\n",
      "Enter another number:  1.0\n"
     ]
    },
    {
     "name": "stdout",
     "output_type": "stream",
     "text": [
      "The difference between 1.5 and 1.0 is an integer? False\n"
     ]
    }
   ],
   "source": [
    "number1 = input(\"Enter a number: \")\n",
    "number2 = input(\"Enter another number: \")\n",
    "\n",
    "def is_integer(number1, number2):\n",
    "    try:\n",
    "        result = float(number1) - float(number2)\n",
    "        return result.is_integer()\n",
    "    except ValueError:\n",
    "        return false\n",
    "\n",
    "print(\n",
    "    \"The difference between\", number1, \"and\", number2, \"is an integer?\", is_integer(number1, number2)\n",
    ") "
   ]
  },
  {
   "cell_type": "code",
   "execution_count": null,
   "id": "131428d6-6a74-4a81-8e57-a424acf7ceed",
   "metadata": {},
   "outputs": [],
   "source": []
  }
 ],
 "metadata": {
  "kernelspec": {
   "display_name": "Python 3 (ipykernel)",
   "language": "python",
   "name": "python3"
  },
  "language_info": {
   "codemirror_mode": {
    "name": "ipython",
    "version": 3
   },
   "file_extension": ".py",
   "mimetype": "text/x-python",
   "name": "python",
   "nbconvert_exporter": "python",
   "pygments_lexer": "ipython3",
   "version": "3.10.18"
  }
 },
 "nbformat": 4,
 "nbformat_minor": 5
}
