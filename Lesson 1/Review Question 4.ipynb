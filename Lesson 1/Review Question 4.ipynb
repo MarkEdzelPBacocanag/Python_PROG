{
 "cells": [
  {
   "cell_type": "markdown",
   "id": "d7353be5-be0f-4958-a9fc-5faa389eadbb",
   "metadata": {},
   "source": [
    "# Review Question 4"
   ]
  },
  {
   "cell_type": "code",
   "execution_count": 7,
   "id": "1a4aa285-d17d-4701-a064-b58c5f0501fd",
   "metadata": {},
   "outputs": [
    {
     "name": "stdin",
     "output_type": "stream",
     "text": [
      "Tell me your name? mark\n"
     ]
    },
    {
     "name": "stdout",
     "output_type": "stream",
     "text": [
      "Your name is Mark\n",
      "\n",
      "First letter of your name is  M\n"
     ]
    }
   ],
   "source": [
    "first_letter = \"Tell me your name?\"\n",
    "userInput = input(first_letter)\n",
    "firstLetter = userInput[1:]\n",
    "\n",
    "if userInput[1:].isupper():\n",
    "    print(\"Your name is \" + userInput)\n",
    "else:\n",
    "    name = userInput[0:1].upper() + userInput[1:]\n",
    "    print(\"Your name is \" + name)\n",
    "    print(\"\\nFirst letter of your name is \", userInput[0:1].upper())"
   ]
  },
  {
   "cell_type": "code",
   "execution_count": null,
   "id": "5f98cf00-e0cd-49cd-8c25-47fcee1e0da6",
   "metadata": {},
   "outputs": [],
   "source": []
  }
 ],
 "metadata": {
  "kernelspec": {
   "display_name": "Python 3 (ipykernel)",
   "language": "python",
   "name": "python3"
  },
  "language_info": {
   "codemirror_mode": {
    "name": "ipython",
    "version": 3
   },
   "file_extension": ".py",
   "mimetype": "text/x-python",
   "name": "python",
   "nbconvert_exporter": "python",
   "pygments_lexer": "ipython3",
   "version": "3.13.5"
  }
 },
 "nbformat": 4,
 "nbformat_minor": 5
}
