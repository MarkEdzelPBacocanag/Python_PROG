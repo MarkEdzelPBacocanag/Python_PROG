{
 "cells": [
  {
   "cell_type": "markdown",
   "id": "2ca40e5b-f382-44cf-8fd2-7b14b116028f",
   "metadata": {},
   "source": [
    "# Review Question 3"
   ]
  },
  {
   "cell_type": "code",
   "execution_count": 2,
   "id": "ea318aec-0e23-4364-9b42-886a12cb239f",
   "metadata": {},
   "outputs": [
    {
     "name": "stdin",
     "output_type": "stream",
     "text": [
      "What is your name? Mark\n"
     ]
    },
    {
     "name": "stdout",
     "output_type": "stream",
     "text": [
      "Your name is Mark\n"
     ]
    }
   ],
   "source": [
    "prompt = \"What is your name?\"\n",
    "userInput = input(prompt)\n",
    "\n",
    "print(\"Your name is \" + userInput)"
   ]
  },
  {
   "cell_type": "code",
   "execution_count": 3,
   "id": "b0abd976-e5e5-4b13-819f-c21a94128db3",
   "metadata": {},
   "outputs": [
    {
     "name": "stdin",
     "output_type": "stream",
     "text": [
      "What is your name? Mark\n"
     ]
    },
    {
     "name": "stdout",
     "output_type": "stream",
     "text": [
      "Your name is mark\n"
     ]
    }
   ],
   "source": [
    "prompt = \"What is your name?\"\n",
    "userInput = input(prompt)\n",
    "\n",
    "print(\"Your name is \" + userInput.lower())"
   ]
  },
  {
   "cell_type": "code",
   "execution_count": 10,
   "id": "05ba9fd3-bd39-49d7-9412-3a32109f1b93",
   "metadata": {},
   "outputs": [
    {
     "name": "stdin",
     "output_type": "stream",
     "text": [
      "What is your name? Mark\n"
     ]
    },
    {
     "name": "stdout",
     "output_type": "stream",
     "text": [
      "Your name is  4\n"
     ]
    }
   ],
   "source": [
    "prompt = \"What is your name?\"\n",
    "userInput = input(prompt)\n",
    "\n",
    "print(\"Your name is \", len(userInput))"
   ]
  }
 ],
 "metadata": {
  "kernelspec": {
   "display_name": "Python 3 (ipykernel)",
   "language": "python",
   "name": "python3"
  },
  "language_info": {
   "codemirror_mode": {
    "name": "ipython",
    "version": 3
   },
   "file_extension": ".py",
   "mimetype": "text/x-python",
   "name": "python",
   "nbconvert_exporter": "python",
   "pygments_lexer": "ipython3",
   "version": "3.13.5"
  }
 },
 "nbformat": 4,
 "nbformat_minor": 5
}
