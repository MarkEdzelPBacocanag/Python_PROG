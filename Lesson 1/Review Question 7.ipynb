{
 "cells": [
  {
   "cell_type": "markdown",
   "id": "174b1a19-8271-4b52-aede-bb4328bb531f",
   "metadata": {},
   "source": [
    "# Review Question 7"
   ]
  },
  {
   "cell_type": "code",
   "execution_count": 3,
   "id": "3734c617-1274-4c37-9a90-fc42a688bd1f",
   "metadata": {},
   "outputs": [
    {
     "name": "stdin",
     "output_type": "stream",
     "text": [
      "Enter some text:  I like to eat eggs and spam\n"
     ]
    },
    {
     "name": "stdout",
     "output_type": "stream",
     "text": [
      "Leetspeak:  I 1ik3 70 347 3gg5 4nd 5p4m\n"
     ]
    }
   ],
   "source": [
    "prompt = \"Enter some text: \"\n",
    "userInput = input(prompt)\n",
    "\n",
    "userInput = userInput.replace(\"a\", \"4\")\n",
    "userInput = userInput.replace(\"b\", \"8\")\n",
    "userInput = userInput.replace(\"e\", \"3\")\n",
    "userInput = userInput.replace(\"l\", \"1\")\n",
    "userInput = userInput.replace(\"o\", \"0\")\n",
    "userInput = userInput.replace(\"s\", \"5\")\n",
    "userInput = userInput.replace(\"t\", \"7\")\n",
    "\n",
    "print(\"Leetspeak: \", userInput)"
   ]
  },
  {
   "cell_type": "code",
   "execution_count": null,
   "id": "bf1f3522-e282-468e-a564-14eb0625d26b",
   "metadata": {},
   "outputs": [],
   "source": []
  }
 ],
 "metadata": {
  "kernelspec": {
   "display_name": "Python 3 (ipykernel)",
   "language": "python",
   "name": "python3"
  },
  "language_info": {
   "codemirror_mode": {
    "name": "ipython",
    "version": 3
   },
   "file_extension": ".py",
   "mimetype": "text/x-python",
   "name": "python",
   "nbconvert_exporter": "python",
   "pygments_lexer": "ipython3",
   "version": "3.13.5"
  }
 },
 "nbformat": 4,
 "nbformat_minor": 5
}
