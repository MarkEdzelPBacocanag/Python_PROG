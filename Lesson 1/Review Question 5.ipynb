{
 "cells": [
  {
   "cell_type": "markdown",
   "id": "0bd1c054-45f8-4b32-a314-45a9d6bebcb4",
   "metadata": {},
   "source": [
    "# Review Question 5"
   ]
  },
  {
   "cell_type": "code",
   "execution_count": 9,
   "id": "57b7469a-557a-4c3a-b0a7-7b81fd8a2a74",
   "metadata": {
    "scrolled": true
   },
   "outputs": [
    {
     "name": "stdout",
     "output_type": "stream",
     "text": [
      "24\n"
     ]
    }
   ],
   "source": [
    "a = '12.5'\n",
    "b = int(a)\n",
    "\n",
    "c = b * 2\n",
    "print(c)"
   ]
  },
  {
   "cell_type": "code",
   "execution_count": 10,
   "id": "616f9f46-5bed-4793-8338-64c0512791be",
   "metadata": {},
   "outputs": [
    {
     "name": "stdout",
     "output_type": "stream",
     "text": [
      "25.0\n"
     ]
    }
   ],
   "source": [
    "a = '12.5'\n",
    "b = float(a)\n",
    "\n",
    "c = b * 2\n",
    "print(c)"
   ]
  },
  {
   "cell_type": "code",
   "execution_count": 13,
   "id": "e0654fb2-f185-4a2a-befe-da2178aa0996",
   "metadata": {},
   "outputs": [
    {
     "name": "stdout",
     "output_type": "stream",
     "text": [
      "Mark has 12 apples\n"
     ]
    }
   ],
   "source": [
    "a = 'Mark'\n",
    "b = 12\n",
    "\n",
    "print(a + \" has \" + str(b) + \" apples\")"
   ]
  },
  {
   "cell_type": "code",
   "execution_count": 4,
   "id": "e267a6fa-607c-4ddc-b524-589a46f3fd46",
   "metadata": {},
   "outputs": [
    {
     "name": "stdin",
     "output_type": "stream",
     "text": [
      "number 1:  25\n",
      "number 2:  2\n"
     ]
    },
    {
     "name": "stdout",
     "output_type": "stream",
     "text": [
      "Total: 50\n",
      "Float total: 50.0\n"
     ]
    }
   ],
   "source": [
    "prompt = \"Provide 2 numbers\"\n",
    "prompt1 = \"number 1: \"\n",
    "number1 = input(prompt1)\n",
    "prompt2 = \"number 2: \"\n",
    "number2 = input(prompt2)\n",
    "\n",
    "total = int(number1) * int(number2)\n",
    "totalFloat = float(number1) * float(number2)\n",
    "\n",
    "print(\"Total: \" + str(total))\n",
    "print(\"Float total: \" + str(totalFloat))"
   ]
  },
  {
   "cell_type": "code",
   "execution_count": null,
   "id": "c7a0893e-ed51-48e8-b660-cae80202bd13",
   "metadata": {},
   "outputs": [],
   "source": []
  }
 ],
 "metadata": {
  "kernelspec": {
   "display_name": "Python 3 (ipykernel)",
   "language": "python",
   "name": "python3"
  },
  "language_info": {
   "codemirror_mode": {
    "name": "ipython",
    "version": 3
   },
   "file_extension": ".py",
   "mimetype": "text/x-python",
   "name": "python",
   "nbconvert_exporter": "python",
   "pygments_lexer": "ipython3",
   "version": "3.13.5"
  }
 },
 "nbformat": 4,
 "nbformat_minor": 5
}
