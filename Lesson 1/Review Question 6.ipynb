{
 "cells": [
  {
   "cell_type": "markdown",
   "id": "b15df3b0-ae7e-46c3-bbcb-9bf8971067fb",
   "metadata": {},
   "source": [
    "# Review Question 6"
   ]
  },
  {
   "cell_type": "code",
   "execution_count": 6,
   "id": "4ee6a967-7858-481f-b036-3e40c81bc2d6",
   "metadata": {},
   "outputs": [
    {
     "name": "stdout",
     "output_type": "stream",
     "text": [
      "In AAAa 'a' is found at 4\n"
     ]
    }
   ],
   "source": [
    "string = \"AAAa\"\n",
    "\n",
    "print(\"In \" + string + \" 'a' is found at\",string.find(\"a\")+1)\n"
   ]
  },
  {
   "cell_type": "code",
   "execution_count": 10,
   "id": "18fa3cdf-bf62-42c2-964f-114654257d53",
   "metadata": {},
   "outputs": [
    {
     "name": "stdout",
     "output_type": "stream",
     "text": [
      "Somebody yaid yomething to Samantha\n"
     ]
    }
   ],
   "source": [
    "string = \"Somebody said something to Samantha\"\n",
    "\n",
    "\n",
    "print(string.replace(\"s\", \"y\"))"
   ]
  },
  {
   "cell_type": "code",
   "execution_count": 17,
   "id": "46423407-e927-4917-98df-fb8675f6541b",
   "metadata": {},
   "outputs": [
    {
     "name": "stdin",
     "output_type": "stream",
     "text": [
      "What letter you want to find in 'Hello, world!' h\n"
     ]
    },
    {
     "data": {
      "text/plain": [
       "1"
      ]
     },
     "execution_count": 17,
     "metadata": {},
     "output_type": "execute_result"
    }
   ],
   "source": [
    "prompt = \"What letter you want to find in \"\n",
    "prompt2 = \"'Hello, world!'\"\n",
    "\n",
    "question = prompt + prompt2\n",
    "userInput = input(question)\n",
    "\n",
    "prompt.find(userInput)"
   ]
  },
  {
   "cell_type": "code",
   "execution_count": null,
   "id": "a5e8ceda-9ada-431e-a0cf-1347d9d03b90",
   "metadata": {},
   "outputs": [],
   "source": []
  }
 ],
 "metadata": {
  "kernelspec": {
   "display_name": "Python 3 (ipykernel)",
   "language": "python",
   "name": "python3"
  },
  "language_info": {
   "codemirror_mode": {
    "name": "ipython",
    "version": 3
   },
   "file_extension": ".py",
   "mimetype": "text/x-python",
   "name": "python",
   "nbconvert_exporter": "python",
   "pygments_lexer": "ipython3",
   "version": "3.13.5"
  }
 },
 "nbformat": 4,
 "nbformat_minor": 5
}
