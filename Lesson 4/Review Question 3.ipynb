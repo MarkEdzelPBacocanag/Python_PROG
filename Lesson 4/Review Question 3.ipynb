{
 "cells": [
  {
   "cell_type": "markdown",
   "id": "11e1f56c-c5e5-4863-a37e-7ae3c4b2015b",
   "metadata": {},
   "source": [
    "# Review Question 3"
   ]
  },
  {
   "cell_type": "code",
   "execution_count": 3,
   "id": "f59f751b-5980-4cb8-897d-44a609af224e",
   "metadata": {},
   "outputs": [
    {
     "name": "stdin",
     "output_type": "stream",
     "text": [
      "Enter a word aaaaaaaaaaaaaaaaaa\n"
     ]
    },
    {
     "name": "stdout",
     "output_type": "stream",
     "text": [
      "It's less than 5 characters\n"
     ]
    }
   ],
   "source": [
    "variableString = input(\"Enter a word\")\n",
    "\n",
    "if len(variableString) >= 5:\n",
    "    print(\"It's less than 5 characters\")\n",
    "elif len(variableString) <= 5:\n",
    "    print(\"It's greater than 5 characters\")\n",
    "elif len(variableString) == 5:\n",
    "    print(\"It's equal to 5 characters\")\n",
    "else:\n",
    "    print(\"Error\")\n"
   ]
  }
 ],
 "metadata": {
  "kernelspec": {
   "display_name": "Python 3 (ipykernel)",
   "language": "python",
   "name": "python3"
  },
  "language_info": {
   "codemirror_mode": {
    "name": "ipython",
    "version": 3
   },
   "file_extension": ".py",
   "mimetype": "text/x-python",
   "name": "python",
   "nbconvert_exporter": "python",
   "pygments_lexer": "ipython3",
   "version": "3.13.5"
  }
 },
 "nbformat": 4,
 "nbformat_minor": 5
}
