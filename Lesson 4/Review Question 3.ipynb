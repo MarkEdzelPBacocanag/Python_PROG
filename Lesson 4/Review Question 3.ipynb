{
 "cells": [
  {
   "cell_type": "markdown",
   "id": "11e1f56c-c5e5-4863-a37e-7ae3c4b2015b",
   "metadata": {},
   "source": [
    "# Review Question 3"
   ]
  },
  {
   "cell_type": "code",
   "execution_count": 1,
   "id": "f59f751b-5980-4cb8-897d-44a609af224e",
   "metadata": {},
   "outputs": [
    {
     "ename": "SyntaxError",
     "evalue": "expected ':' (2508167046.py, line 9)",
     "output_type": "error",
     "traceback": [
      "\u001b[1;36m  Cell \u001b[1;32mIn[1], line 9\u001b[1;36m\u001b[0m\n\u001b[1;33m    else variableString.len() == 5:\u001b[0m\n\u001b[1;37m         ^\u001b[0m\n\u001b[1;31mSyntaxError\u001b[0m\u001b[1;31m:\u001b[0m expected ':'\n"
     ]
    }
   ],
   "source": [
    "variableString = input(\"Enter a word\")\n",
    "\n",
    "if variableString.len() > 5:\n",
    "    print(\"It's less than 5 characters\")\n",
    "    \n",
    "elif variableString.len() < 5:\n",
    "    print(\"It's greater than 5 characters\")\n",
    "    \n",
    "else variableString.len() == 5:\n",
    "    print(\"It's equal to 5 characters\")\n"
   ]
  },
  {
   "cell_type": "code",
   "execution_count": null,
   "id": "cc1e5b46-45d5-4719-8e18-9062994c0e49",
   "metadata": {},
   "outputs": [],
   "source": []
  }
 ],
 "metadata": {
  "kernelspec": {
   "display_name": "Python 3 (ipykernel)",
   "language": "python",
   "name": "python3"
  },
  "language_info": {
   "codemirror_mode": {
    "name": "ipython",
    "version": 3
   },
   "file_extension": ".py",
   "mimetype": "text/x-python",
   "name": "python",
   "nbconvert_exporter": "python",
   "pygments_lexer": "ipython3",
   "version": "3.13.5"
  }
 },
 "nbformat": 4,
 "nbformat_minor": 5
}
