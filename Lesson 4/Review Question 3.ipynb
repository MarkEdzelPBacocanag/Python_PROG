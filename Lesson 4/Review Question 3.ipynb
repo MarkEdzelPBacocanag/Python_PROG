{
 "cells": [
  {
   "cell_type": "markdown",
   "id": "2bf07cd9-33f6-4fd4-ba8d-10b7de37bfee",
   "metadata": {},
   "source": [
    "# Revuew Question 3"
   ]
  },
  {
   "cell_type": "code",
   "execution_count": 2,
   "id": "597bee48-16c0-4f84-8e39-baa8683e8dcf",
   "metadata": {},
   "outputs": [
    {
     "name": "stdin",
     "output_type": "stream",
     "text": [
      "Enter a word Hello, world!\n"
     ]
    },
    {
     "name": "stdout",
     "output_type": "stream",
     "text": [
      "It's greater than 5 characters\n"
     ]
    }
   ],
   "source": [
    "variableString = input(\"Enter a word\")\n",
    "\n",
    "if len(variableString) < 5:\n",
    "    print(\"It's less than 5 characters\")\n",
    "elif len(variableString) > 5:\n",
    "    print(\"It's greater than 5 characters\")\n",
    "elif len(variableString) == 5:\n",
    "    print(\"It's equal to 5 characters\")\n",
    "else:\n",
    "    print(\"Error\")"
   ]
  },
  {
   "cell_type": "code",
   "execution_count": null,
   "id": "5f46e343-2420-483a-9e9b-606c9d3f7fad",
   "metadata": {},
   "outputs": [],
   "source": []
  }
 ],
 "metadata": {
  "kernelspec": {
   "display_name": "Python [conda env:base] *",
   "language": "python",
   "name": "conda-base-py"
  },
  "language_info": {
   "codemirror_mode": {
    "name": "ipython",
    "version": 3
   },
   "file_extension": ".py",
   "mimetype": "text/x-python",
   "name": "python",
   "nbconvert_exporter": "python",
   "pygments_lexer": "ipython3",
   "version": "3.13.5"
  }
 },
 "nbformat": 4,
 "nbformat_minor": 5
}
