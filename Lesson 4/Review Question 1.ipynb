{
 "cells": [
  {
   "cell_type": "markdown",
   "id": "2300a9fe-d357-420c-a98b-c82433f40e1e",
   "metadata": {},
   "source": [
    "# Review Question 1"
   ]
  },
  {
   "cell_type": "code",
   "execution_count": 9,
   "id": "970a4de6-bd24-43f0-8915-3b2e7c021111",
   "metadata": {},
   "outputs": [
    {
     "name": "stdout",
     "output_type": "stream",
     "text": [
      "True\n",
      "False\n",
      "True\n",
      "True\n",
      "False\n"
     ]
    }
   ],
   "source": [
    "print(1 <= 1)\n",
    "print(1 != 1)\n",
    "print(\"good\" != \"bad\")\n",
    "print(\"good\" != \"Good\")\n",
    "print(123 == \"123\")\n"
   ]
  },
  {
   "cell_type": "code",
   "execution_count": 10,
   "id": "901d2cc7-d16a-4591-96d1-ba8d77e1ac4e",
   "metadata": {},
   "outputs": [
    {
     "name": "stdout",
     "output_type": "stream",
     "text": [
      "True\n",
      "True\n",
      "True\n",
      "True\n"
     ]
    }
   ],
   "source": [
    "print(3 < 4)\n",
    "print(10 > 5)\n",
    "print(\"jack\" != \"jill\")\n",
    "print(42 != \"42\")"
   ]
  }
 ],
 "metadata": {
  "kernelspec": {
   "display_name": "Python 3 (ipykernel)",
   "language": "python",
   "name": "python3"
  },
  "language_info": {
   "codemirror_mode": {
    "name": "ipython",
    "version": 3
   },
   "file_extension": ".py",
   "mimetype": "text/x-python",
   "name": "python",
   "nbconvert_exporter": "python",
   "pygments_lexer": "ipython3",
   "version": "3.13.5"
  }
 },
 "nbformat": 4,
 "nbformat_minor": 5
}
