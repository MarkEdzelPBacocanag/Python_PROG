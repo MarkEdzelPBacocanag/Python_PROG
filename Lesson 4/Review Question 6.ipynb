{
 "cells": [
  {
   "cell_type": "markdown",
   "id": "ed3d8f9b-23bb-48f2-8e47-ccc035fc3ced",
   "metadata": {},
   "source": [
    "# Review Question 6"
   ]
  },
  {
   "cell_type": "code",
   "execution_count": 3,
   "id": "7bf4b494-7b72-4022-88d1-0958a8ad2a20",
   "metadata": {},
   "outputs": [
    {
     "name": "stdin",
     "output_type": "stream",
     "text": [
      "Do you want to roll a die?\n",
      "[1] - yes\n",
      "[2] - no\n",
      "Selected:  1\n"
     ]
    },
    {
     "name": "stdout",
     "output_type": "stream",
     "text": [
      "You've rolled a die\n",
      "result:  3\n"
     ]
    },
    {
     "name": "stdin",
     "output_type": "stream",
     "text": [
      "Do you want to continue?\n",
      "[1] - yes\n",
      "[2] - no\n",
      "Selected:  2\n"
     ]
    },
    {
     "name": "stdout",
     "output_type": "stream",
     "text": [
      "Thank you for participating!\n"
     ]
    }
   ],
   "source": [
    "import random\n",
    "\n",
    "def roll():\n",
    "    return random.randint(1,6)\n",
    "\n",
    "uInput = int(input(\"Do you want to roll a die?\\n[1] - yes\\n[2] - no\\nSelected: \"))\n",
    "while uInput != 2:\n",
    "    if uInput == 1:\n",
    "        print(\"You've rolled a die\")\n",
    "        print(\"result: \", roll())\n",
    "    else:\n",
    "        print(\"Please select yes or no\")\n",
    "    uInput = int(input(\"Do you want to continue?\\n[1] - yes\\n[2] - no\\nSelected: \"))\n",
    "print(\"Thank you for participating!\")"
   ]
  },
  {
   "cell_type": "code",
   "execution_count": 24,
   "id": "efb52d35-2823-4289-867e-7f7bc16ba6b6",
   "metadata": {},
   "outputs": [
    {
     "name": "stdout",
     "output_type": "stream",
     "text": [
      "The average result of 10000 rolls is 3.4926\n"
     ]
    }
   ],
   "source": [
    "import random\n",
    "\n",
    "rolledNumber = 0\n",
    "numberOfRolledDie = 10000\n",
    "\n",
    "for _ in range(numberOfRolledDie):\n",
    "    roll = random.randint(1, 6)\n",
    "    rolledNumber += roll\n",
    "\n",
    "result = rolledNumber / 10000\n",
    "print(f\"The average result of {numberOfRolledDie} rolls is {result}\")"
   ]
  },
  {
   "cell_type": "markdown",
   "id": "2cb28756-2b6d-46db-b666-a935837275c3",
   "metadata": {},
   "source": [
    "# Challange: Simulate an election"
   ]
  },
  {
   "cell_type": "code",
   "execution_count": 34,
   "id": "0e55fc21-35d8-4f5f-90bd-756194e34f20",
   "metadata": {},
   "outputs": [
    {
     "name": "stdout",
     "output_type": "stream",
     "text": [
      "The probability of candidate A winning is 63.00%\n"
     ]
    }
   ],
   "source": [
    "import random\n",
    "\n",
    "def election():\n",
    "    region1 = random.random() < 0.87\n",
    "    region2 = random.random() < 0.65\n",
    "    region3 = random.random() < 0.17\n",
    "\n",
    "    total = region1 + region2 + region3\n",
    "    return total >= 2\n",
    "\n",
    "simulate = 10000\n",
    "candidate_A_Win= 0\n",
    "\n",
    "for _ in range(simulate):\n",
    "    if election():\n",
    "        candidate_A_Win += 1\n",
    "\n",
    "probability = candidate_A_Win / simulate\n",
    "print(f\"The probability of candidate A winning is {probability:.2%}\")    "
   ]
  },
  {
   "cell_type": "code",
   "execution_count": null,
   "id": "a27ee4fc-b69c-420b-b2e0-e1b5c9aeb924",
   "metadata": {},
   "outputs": [],
   "source": []
  }
 ],
 "metadata": {
  "kernelspec": {
   "display_name": "Python 3 (ipykernel)",
   "language": "python",
   "name": "python3"
  },
  "language_info": {
   "codemirror_mode": {
    "name": "ipython",
    "version": 3
   },
   "file_extension": ".py",
   "mimetype": "text/x-python",
   "name": "python",
   "nbconvert_exporter": "python",
   "pygments_lexer": "ipython3",
   "version": "3.13.5"
  }
 },
 "nbformat": 4,
 "nbformat_minor": 5
}
