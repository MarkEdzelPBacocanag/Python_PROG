{
 "cells": [
  {
   "cell_type": "code",
   "execution_count": 3,
   "id": "17be7ab5-6a1c-4d13-8496-2f0959fe751a",
   "metadata": {},
   "outputs": [
    {
     "name": "stdin",
     "output_type": "stream",
     "text": [
      "Enter an Integer(numbers):  5\n"
     ]
    },
    {
     "name": "stdout",
     "output_type": "stream",
     "text": [
      "5\n"
     ]
    }
   ],
   "source": [
    "try:\n",
    "    uInput = int(input(\"Enter an Integer(numbers): \"))\n",
    "    print(uInput)\n",
    "except:\n",
    "    print(\"Try again\")"
   ]
  },
  {
   "cell_type": "code",
   "execution_count": 5,
   "id": "e1603381-026c-434a-9e4c-88346f48ce47",
   "metadata": {},
   "outputs": [
    {
     "name": "stdin",
     "output_type": "stream",
     "text": [
      "Enter a word:  hello\n",
      "Enter a integer(number):  4\n"
     ]
    },
    {
     "name": "stdout",
     "output_type": "stream",
     "text": [
      "Character in index 4 is o\n"
     ]
    }
   ],
   "source": [
    "uInput = input(\"Enter a word: \")\n",
    "uInputInt = int(input(\"Enter a integer(number): \"))\n",
    "\n",
    "if 0 <= uInputInt < len(uInput):\n",
    "    print(\"Character in index\", uInputInt, \"is\", uInput[uInputInt])\n",
    "else:\n",
    "    print(\"Word and index does not match\")"
   ]
  },
  {
   "cell_type": "code",
   "execution_count": null,
   "id": "c995f939-9e82-4fd3-9194-6ee956348c55",
   "metadata": {},
   "outputs": [],
   "source": []
  }
 ],
 "metadata": {
  "kernelspec": {
   "display_name": "Python 3 (ipykernel)",
   "language": "python",
   "name": "python3"
  },
  "language_info": {
   "codemirror_mode": {
    "name": "ipython",
    "version": 3
   },
   "file_extension": ".py",
   "mimetype": "text/x-python",
   "name": "python",
   "nbconvert_exporter": "python",
   "pygments_lexer": "ipython3",
   "version": "3.13.5"
  }
 },
 "nbformat": 4,
 "nbformat_minor": 5
}
