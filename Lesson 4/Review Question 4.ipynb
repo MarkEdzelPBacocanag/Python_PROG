{
 "cells": [
  {
   "cell_type": "markdown",
   "id": "79eca34a-6f03-456a-8c54-e6ec6b60c12f",
   "metadata": {},
   "source": [
    "# Review Question 4"
   ]
  },
  {
   "cell_type": "code",
   "execution_count": 8,
   "id": "3490a241-b8ab-4e3d-9710-1354d67d8f87",
   "metadata": {},
   "outputs": [
    {
     "name": "stdin",
     "output_type": "stream",
     "text": [
      "[Q] - quit\n",
      "Enter an input:  asd\n",
      "[Q] - quit\n",
      "Enter an input:  asd\n",
      "[Q] - quit\n",
      "Enter an input:  asd\n",
      "[Q] - quit\n",
      "Enter an input:  q\n"
     ]
    }
   ],
   "source": [
    "while uInput.lower() != 'q':\n",
    "    uInput = input(\"[Q] - quit\\nEnter an input: \")\n",
    "  "
   ]
  },
  {
   "cell_type": "code",
   "execution_count": 12,
   "id": "e25b4b8d-cbd2-498f-8883-1e212f7541de",
   "metadata": {},
   "outputs": [
    {
     "name": "stdout",
     "output_type": "stream",
     "text": [
      "3\n",
      "6\n",
      "9\n",
      "12\n",
      "15\n",
      "18\n",
      "21\n",
      "24\n",
      "27\n",
      "30\n",
      "33\n",
      "36\n",
      "39\n",
      "42\n",
      "45\n",
      "48\n"
     ]
    }
   ],
   "source": [
    "n = 0\n",
    "for n in range(1, 50):\n",
    "    if n % 3 == 0:\n",
    "        print(n)\n",
    "    continue"
   ]
  },
  {
   "cell_type": "code",
   "execution_count": null,
   "id": "077a520f-2018-4c0c-a9d7-5a3d9cfabaae",
   "metadata": {},
   "outputs": [],
   "source": []
  }
 ],
 "metadata": {
  "kernelspec": {
   "display_name": "Python 3 (ipykernel)",
   "language": "python",
   "name": "python3"
  },
  "language_info": {
   "codemirror_mode": {
    "name": "ipython",
    "version": 3
   },
   "file_extension": ".py",
   "mimetype": "text/x-python",
   "name": "python",
   "nbconvert_exporter": "python",
   "pygments_lexer": "ipython3",
   "version": "3.13.5"
  }
 },
 "nbformat": 4,
 "nbformat_minor": 5
}
