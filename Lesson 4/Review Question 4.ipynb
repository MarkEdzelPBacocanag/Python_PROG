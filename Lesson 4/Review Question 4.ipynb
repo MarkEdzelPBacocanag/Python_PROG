{
 "cells": [
  {
   "cell_type": "markdown",
   "id": "b183d685-85ea-4213-8f82-ecb842e352f0",
   "metadata": {},
   "source": [
    "# Review Question 4"
   ]
  },
  {
   "cell_type": "code",
   "execution_count": 4,
   "id": "f8870267-12f4-4a14-a5eb-d0142f109bbe",
   "metadata": {},
   "outputs": [
    {
     "name": "stdin",
     "output_type": "stream",
     "text": [
      "[Q] - quit\n",
      "Enter an input:  hello\n",
      "[Q] - quit\n",
      "Enter an input:  no\n",
      "[Q] - quit\n",
      "Enter an input:  yes\n",
      "[Q] - quit\n",
      "Enter an input:  q\n"
     ]
    }
   ],
   "source": [
    "uInput = \"\"\n",
    "while uInput.lower() != 'q':\n",
    "    uInput = input(\"[Q] - quit\\nEnter an input: \")"
   ]
  },
  {
   "cell_type": "code",
   "execution_count": 1,
   "id": "e7226ed1-bfde-470d-a511-de38a9f3859d",
   "metadata": {},
   "outputs": [
    {
     "name": "stdout",
     "output_type": "stream",
     "text": [
      "1\n",
      "2\n",
      "4\n",
      "5\n",
      "7\n",
      "8\n",
      "10\n",
      "11\n",
      "13\n",
      "14\n",
      "16\n",
      "17\n",
      "19\n",
      "20\n",
      "22\n",
      "23\n",
      "25\n",
      "26\n",
      "28\n",
      "29\n",
      "31\n",
      "32\n",
      "34\n",
      "35\n",
      "37\n",
      "38\n",
      "40\n",
      "41\n",
      "43\n",
      "44\n",
      "46\n",
      "47\n",
      "49\n"
     ]
    }
   ],
   "source": [
    "n = 0\n",
    "for n in range(1, 50):\n",
    "    if n % 3 != 0:\n",
    "        print(n)\n",
    "    continue"
   ]
  },
  {
   "cell_type": "code",
   "execution_count": null,
   "id": "abc81421-162d-45eb-a718-5591f9b0c874",
   "metadata": {},
   "outputs": [],
   "source": []
  }
 ],
 "metadata": {
  "kernelspec": {
   "display_name": "Python [conda env:base] *",
   "language": "python",
   "name": "conda-base-py"
  },
  "language_info": {
   "codemirror_mode": {
    "name": "ipython",
    "version": 3
   },
   "file_extension": ".py",
   "mimetype": "text/x-python",
   "name": "python",
   "nbconvert_exporter": "python",
   "pygments_lexer": "ipython3",
   "version": "3.13.5"
  }
 },
 "nbformat": 4,
 "nbformat_minor": 5
}
