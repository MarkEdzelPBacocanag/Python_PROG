{
 "cells": [
  {
   "cell_type": "markdown",
   "id": "71d08a4e-1180-4b0d-85b6-fa5878946bcb",
   "metadata": {},
   "source": [
    "# Q4 Exponent Tool & Input Validation"
   ]
  },
  {
   "cell_type": "markdown",
   "id": "9b358871-6fe1-49c2-a3be-d8309600e1f7",
   "metadata": {},
   "source": [
    "# Prompt \n",
    "Create a CLI program exponent.py that reads two values, validates if they're numeric, handles error(e.g. ValueError), and print a ** b with clear message.\n",
    "# GPT code"
   ]
  },
  {
   "cell_type": "code",
   "execution_count": 1,
   "id": "0a5a547f-6955-44df-9aa0-30d1a6eedef8",
   "metadata": {},
   "outputs": [
    {
     "name": "stdout",
     "output_type": "stream",
     "text": [
      "Exponent Calculator: Computes a ** b\n"
     ]
    },
    {
     "name": "stdin",
     "output_type": "stream",
     "text": [
      "Enter base (a):  23\n",
      "Enter exponent (b):  5\n"
     ]
    },
    {
     "name": "stdout",
     "output_type": "stream",
     "text": [
      "\n",
      "Result: 23.0 raised to the power of 5.0 is 6436343.0000\n"
     ]
    }
   ],
   "source": [
    "# exponent.py\n",
    "\n",
    "def get_numeric_input(prompt: str) -> float:\n",
    "    \"\"\"Prompts the user and validates numeric input.\"\"\"\n",
    "    while True:\n",
    "        try:\n",
    "            value = input(prompt)\n",
    "            return float(value)\n",
    "        except ValueError:\n",
    "            print(\"Invalid input. Please enter a numeric value.\")\n",
    "\n",
    "def main():\n",
    "    print(\"Exponent Calculator: Computes a ** b\")\n",
    "\n",
    "    a = get_numeric_input(\"Enter base (a): \")\n",
    "    b = get_numeric_input(\"Enter exponent (b): \")\n",
    "\n",
    "    result = a ** b\n",
    "    print(f\"\\nResult: {a} raised to the power of {b} is {result:.4f}\")\n",
    "\n",
    "if __name__ == \"__main__\":\n",
    "    main()\n"
   ]
  },
  {
   "cell_type": "markdown",
   "id": "27938c70-65a3-46ae-b4a1-d556b7ed9bed",
   "metadata": {},
   "source": [
    "# Critique \n",
    "\n",
    "-Correctness: The program correctly reads two inputs, validates them as numeric, and computes ( a^b ) using Python’s exponentiation operator . \n",
    "\n",
    "-Complexity: The logic is linear and efficient— for input and computation. The use of a loop for input validation is simple and appropriate for CLI interaction. There’s no unnecessary branching or overhead.\n",
    "\n",
    "-Robustness: The program handles invalid input using a  loop, ensuring it won’t crash on non-numeric entries. However, it assumes the user will eventually enter valid input and doesn’t offer an exit option or limit retries, which could be added for better control.\n",
    "\n",
    "-Readability: The code is clean and easy to follow. Function names like  and  are descriptive, and the prompts are user-friendly.\n",
    "\n",
    "-Faithfullness: The implementation stays true to its goal: a simple CLI tool for exponentiation with input validation and error handling."
   ]
  },
  {
   "cell_type": "markdown",
   "id": "cdd10d05-6b45-4603-99c4-44d18dacfe7a",
   "metadata": {},
   "source": [
    "# Improved code"
   ]
  },
  {
   "cell_type": "code",
   "execution_count": 5,
   "id": "3a4be172-74d3-4a4b-9dd3-b4ad105dcbc4",
   "metadata": {},
   "outputs": [
    {
     "name": "stdout",
     "output_type": "stream",
     "text": [
      "Exponent Calculator: Computes a ** b\n"
     ]
    },
    {
     "name": "stdin",
     "output_type": "stream",
     "text": [
      "Enter base (a):  3\n",
      "Enter exponent (b):  24\n"
     ]
    },
    {
     "name": "stdout",
     "output_type": "stream",
     "text": [
      "\n",
      "Result: 3.0 raised to the power of 24.0 is 282429536481.0000\n"
     ]
    }
   ],
   "source": [
    "def main():\n",
    "    print(\"Exponent Calculator: Computes a ** b\")\n",
    "\n",
    "    try:\n",
    "        a = float(input(\"Enter base (a): \"))\n",
    "        b = float(input(\"Enter exponent (b): \"))\n",
    "        result = a ** b\n",
    "        print(f\"\\nResult: {a} raised to the power of {b} is {result:.4f}\")\n",
    "    except ValueError:\n",
    "        print(\"Invalid input. Please enter numeric values only.\")\n",
    "\n",
    "if __name__ == \"__main__\":\n",
    "    main()"
   ]
  },
  {
   "cell_type": "markdown",
   "id": "b2e134ef-7ddb-4bbc-b9dc-95cda89474cd",
   "metadata": {},
   "source": [
    "Using try/except with float() is more reliable than str.isdigit() because it correctly handles floats, negatives, and scientific notation, while isdigit() only works for whole positive integers and fails on valid numeric formats."
   ]
  },
  {
   "cell_type": "code",
   "execution_count": null,
   "id": "cc1f5eb3-9964-4e35-a093-25bdef1f44cc",
   "metadata": {},
   "outputs": [],
   "source": []
  }
 ],
 "metadata": {
  "kernelspec": {
   "display_name": "Python [conda env:base] *",
   "language": "python",
   "name": "conda-base-py"
  },
  "language_info": {
   "codemirror_mode": {
    "name": "ipython",
    "version": 3
   },
   "file_extension": ".py",
   "mimetype": "text/x-python",
   "name": "python",
   "nbconvert_exporter": "python",
   "pygments_lexer": "ipython3",
   "version": "3.13.5"
  }
 },
 "nbformat": 4,
 "nbformat_minor": 5
}
