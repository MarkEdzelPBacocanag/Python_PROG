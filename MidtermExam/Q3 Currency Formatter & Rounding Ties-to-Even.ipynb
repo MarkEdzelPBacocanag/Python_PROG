{
 "cells": [
  {
   "cell_type": "markdown",
   "id": "82e19cbc-dfda-43e1-881a-df5b73456016",
   "metadata": {},
   "source": [
    "# Q3 Currency Formatter & Rounding Ties-to-Even"
   ]
  },
  {
   "cell_type": "code",
   "execution_count": 1,
   "id": "82c8c97f-ce2f-4d73-bfad-d1fadaff6e4c",
   "metadata": {},
   "outputs": [
    {
     "name": "stdout",
     "output_type": "stream",
     "text": [
      "1,234.50\n",
      "1,234.57\n",
      "1,234.56\n",
      "2.50\n",
      "3.50\n",
      "1,000,000.56\n",
      "0.01\n",
      "0.00\n"
     ]
    }
   ],
   "source": [
    "def fmt_money(x: float) -> str:\n",
    "    \"\"\"\n",
    "    Formats a float as a monetary string with commas and two decimal places.\n",
    "    Uses round-half-to-even (bankers' rounding).\n",
    "    \n",
    "    Args:\n",
    "        x (float): The input number.\n",
    "    \n",
    "    Returns:\n",
    "        str: Formatted string like '1,234.50'\n",
    "    \"\"\"\n",
    "    rounded = round(x, 2)  # Bankers' rounding\n",
    "    return f\"{rounded:,.2f}\"\n",
    "\n",
    "print(fmt_money(1234.5))     # '1,234.50'\n",
    "print(fmt_money(1234.567))   # '1,234.57'\n",
    "print(fmt_money(1234.564))   # '1,234.56'\n",
    "print(fmt_money(2.5))        # '2.50' → rounds to even (2)\n",
    "print(fmt_money(3.5))        # '3.50' → rounds to even (4)\n",
    "print(fmt_money(1000000.555))# '1,000,000.56'\n",
    "print(fmt_money(0.005))      # '0.01' → rounds up\n",
    "print(fmt_money(0.004))      # '0.00' → rounds down"
   ]
  },
  {
   "cell_type": "markdown",
   "id": "dafe4d34-0d1f-49ff-9091-04f6fd7baa33",
   "metadata": {},
   "source": [
    "# Prompt:\n",
    "Create fmt_money(x: float) -> str. It should return string like 1,234.50 that uses proper rounding, Include test cases that demonstrate ties (e.g. 2.5, 3.5)\n",
    "\n",
    "# Critique\n",
    "\n",
    "-Correctness: The function does what the instructions intends to. The output matches expected monetary formatting with commas and fixed decimals\n",
    "\n",
    "-Complexity: The function operates in constant time and space since it performs a single rounding and formatting operation.\n",
    "\n",
    "-Robustness: It lacks input validation. Which may raise a TypeError or behave unexpectedly.\n",
    "\n",
    "-Readability: logic is concise and easy to understand. detailed docstring could improve maintainability by clarifying rounding behavior and expected input types.\n",
    "\n",
    "-Faithfullness: The function adheres to its intended purpose."
   ]
  },
  {
   "cell_type": "markdown",
   "id": "8b5b1028-aba3-4a4f-91af-d296ba991daa",
   "metadata": {},
   "source": [
    "# Improved Code"
   ]
  },
  {
   "cell_type": "code",
   "execution_count": 5,
   "id": "d4a4fe1a-66cc-448e-8ff0-b55af3e2c133",
   "metadata": {},
   "outputs": [
    {
     "name": "stdout",
     "output_type": "stream",
     "text": [
      "$1,234.50\n",
      "$1,234.57\n",
      "$1,234.56\n",
      "$2.50\n",
      "$3.50\n",
      "$1,000,000.56\n",
      "$0.01\n",
      "$0.00\n"
     ]
    }
   ],
   "source": [
    "def fmt_money(x: float) -> str:\n",
    "    \"\"\"Formats in a proper currency format, using proper rounding\"\"\"\n",
    "    \n",
    "    c_round = round(x,2)\n",
    "        \n",
    "    if not isinstance(x, (int, float)):\n",
    "        raise TypeError(\"Input must be a numeric type (int or float).\")\n",
    "\n",
    "    return f\"${c_round:,.2f}\"\n",
    "    \n",
    "print(fmt_money(1234.5))     # '1,234.50'\n",
    "print(fmt_money(1234.567))   # '1,234.57'\n",
    "print(fmt_money(1234.564))   # '1,234.56'\n",
    "print(fmt_money(2.5))        # '2.50' → rounds to even (2)\n",
    "print(fmt_money(3.5))        # '3.50' → rounds to even (4)\n",
    "print(fmt_money(1000000.555))# '1,000,000.56'\n",
    "print(fmt_money(0.005))      # '0.01' → rounds up\n",
    "print(fmt_money(0.004))      # '0.00' → rounds down"
   ]
  },
  {
   "cell_type": "markdown",
   "id": "cab6a77c-ec8d-42ac-8dda-1f05630082c4",
   "metadata": {},
   "source": [
    "Floating-point representation error arises because computers store numbers in binary using a fixed number of bits. This means many decimal values—like 0.1 or 2.5—can’t be represented exactly. Instead, they’re stored as approximations, which can lead to tiny inaccuracies in calculations or comparisons."
   ]
  },
  {
   "cell_type": "code",
   "execution_count": null,
   "id": "5c1d9bbe-7bbf-4302-aea1-16542db6fe45",
   "metadata": {},
   "outputs": [],
   "source": []
  }
 ],
 "metadata": {
  "kernelspec": {
   "display_name": "Python [conda env:base] *",
   "language": "python",
   "name": "conda-base-py"
  },
  "language_info": {
   "codemirror_mode": {
    "name": "ipython",
    "version": 3
   },
   "file_extension": ".py",
   "mimetype": "text/x-python",
   "name": "python",
   "nbconvert_exporter": "python",
   "pygments_lexer": "ipython3",
   "version": "3.13.5"
  }
 },
 "nbformat": 4,
 "nbformat_minor": 5
}
