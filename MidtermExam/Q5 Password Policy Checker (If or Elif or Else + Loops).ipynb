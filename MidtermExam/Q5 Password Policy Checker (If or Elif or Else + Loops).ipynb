{
 "cells": [
  {
   "cell_type": "markdown",
   "id": "f819fbf0-4419-46a1-91fd-a5c5eec0d7b0",
   "metadata": {},
   "source": [
    "# Q5 Password Policy Checker (If/Elif/Else + Loops)"
   ]
  },
  {
   "cell_type": "code",
   "execution_count": 6,
   "id": "b44b84e9-67c3-4048-b62f-c3d47662c9d0",
   "metadata": {},
   "outputs": [
    {
     "name": "stdout",
     "output_type": "stream",
     "text": [
      "Password must meet the following rules:\n",
      "- At least 10 characters\n",
      "- At least one uppercase letter\n",
      "- At least one lowercase letter\n",
      "- At least one digit\n",
      "- At least one symbol from !@#$^&*\n",
      "- No spaces\n",
      "\n"
     ]
    },
    {
     "name": "stdin",
     "output_type": "stream",
     "text": [
      "Enter password (or Q to quit):  \n"
     ]
    },
    {
     "name": "stdout",
     "output_type": "stream",
     "text": [
      "❌ Password is invalid. Issues:\n",
      " - Length requirement not met.\n",
      " - Uppercase requirement not met.\n",
      " - Lowercase requirement not met.\n",
      " - Digit requirement not met.\n",
      " - Symbol requirement not met.\n"
     ]
    },
    {
     "name": "stdin",
     "output_type": "stream",
     "text": [
      "Enter password (or Q to quit):  1234@678Ab8\n"
     ]
    },
    {
     "name": "stdout",
     "output_type": "stream",
     "text": [
      "✅ Password is valid.\n"
     ]
    }
   ],
   "source": [
    "import string\n",
    "\n",
    "def check_password(pw: str) -> dict:\n",
    "    \"\"\"\n",
    "    Validates a password against the following rules:\n",
    "    - At least 10 characters\n",
    "    - At least one uppercase letter\n",
    "    - At least one lowercase letter\n",
    "    - At least one digit\n",
    "    - At least one symbol from !@#$^&*\n",
    "    - No spaces\n",
    "    \"\"\"\n",
    "    symbols = set(\"!@#$^&*\")\n",
    "    return {\n",
    "        \"length\": len(pw) >= 10,\n",
    "        \"uppercase\": any(c.isupper() for c in pw),\n",
    "        \"lowercase\": any(c.islower() for c in pw),\n",
    "        \"digit\": any(c.isdigit() for c in pw),\n",
    "        \"symbol\": any(c in symbols for c in pw),\n",
    "        \"no_space\": \" \" not in pw\n",
    "    }\n",
    "\n",
    "def is_valid(rules: dict) -> bool:\n",
    "    return all(rules.values())\n",
    "\n",
    "def main():\n",
    "    print(\"Password must meet the following rules:\")\n",
    "    print(\"- At least 10 characters\")\n",
    "    print(\"- At least one uppercase letter\")\n",
    "    print(\"- At least one lowercase letter\")\n",
    "    print(\"- At least one digit\")\n",
    "    print(\"- At least one symbol from !@#$^&*\")\n",
    "    print(\"- No spaces\\n\")\n",
    "\n",
    "    while True:\n",
    "        pw = input(\"Enter password (or Q to quit): \")\n",
    "        if pw.lower() == \"q\":\n",
    "            print(\"Exiting. No password set.\")\n",
    "            break\n",
    "\n",
    "        result = check_password(pw)\n",
    "        if is_valid(result):\n",
    "            print(\"✅ Password is valid.\")\n",
    "            break\n",
    "        else:\n",
    "            print(\"❌ Password is invalid. Issues:\")\n",
    "            for rule, passed in result.items():\n",
    "                if not passed:\n",
    "                    print(f\" - {rule.replace('_', ' ').capitalize()} requirement not met.\")\n",
    "\n",
    "if __name__ == \"__main__\":\n",
    "    main()"
   ]
  },
  {
   "cell_type": "markdown",
   "id": "5c4ce55f-eb0a-432e-b25b-b398fca6462c",
   "metadata": {},
   "source": [
    "# Prompt: \n",
    "Create a check_password(pw: str) -> dict that validate length >= 10 at least one uppercase, one lowercase, one digit, one symbol in !@#$^&*, and no space. Include a loop that prompts until a valid password\n",
    " is entered (allow quit with Q/q).\n",
    "\n",
    "# Critique \n",
    "\n",
    "-Correctness: The function accurately checks all specified password rules: minimum length, presence of uppercase, lowercase, digit, symbol from a defined set, and absence of spaces.\n",
    "\n",
    "-Complexity: The function runs in linear time relative to the password length——O(n)——which is optimal for this kind of validation. Each condition is evaluated in a single pass using generator expressions, keeping performance efficient even for longer inputs.\n",
    "\n",
    "-Robustness: The function handles typical password inputs well, but it assumes the input is always a string. Adding a type check or coercion (e.g. str(pw)) would make it more resilient in case of unexpected input types like None or integers.\n",
    "\n",
    "-Readability: The code is clean, well-structured, and easy to follow. The use of descriptive keys in the returned dictionary enhances clarity.\n",
    "\n",
    "-Faithfullness: The implementation stays true to the stated requirements without overcomplicating the logic.   "
   ]
  },
  {
   "cell_type": "markdown",
   "id": "13283afa-1f61-472b-92eb-a9119a1e6a32",
   "metadata": {},
   "source": [
    "# Improved Code"
   ]
  },
  {
   "cell_type": "code",
   "execution_count": 7,
   "id": "dbbdfab6-79ca-4c05-bc15-d178ad60ec6b",
   "metadata": {},
   "outputs": [
    {
     "name": "stdout",
     "output_type": "stream",
     "text": [
      "Password must be at least 10 characters, include uppercase, lowercase, digit, symbol (!@#$^&*), and no spaces.\n"
     ]
    },
    {
     "name": "stdin",
     "output_type": "stream",
     "text": [
      "Enter password (or Q to quit):  a\n"
     ]
    },
    {
     "name": "stdout",
     "output_type": "stream",
     "text": [
      "Password is invalid. Issues:\n",
      " - Missing or invalid: length\n",
      " - Missing or invalid: uppercase\n",
      " - Missing or invalid: digit\n",
      " - Missing or invalid: symbol\n"
     ]
    },
    {
     "name": "stdin",
     "output_type": "stream",
     "text": [
      "Enter password (or Q to quit):  aBc@dfe123g1\n"
     ]
    },
    {
     "name": "stdout",
     "output_type": "stream",
     "text": [
      "Password is valid.\n"
     ]
    }
   ],
   "source": [
    "def check_password(pw: str) -> dict:\n",
    "    symbols = \"!@#$^&*\"\n",
    "    return {\n",
    "        \"length\": len(pw) >= 10,\n",
    "        \"uppercase\": any(c.isupper() for c in pw),\n",
    "        \"lowercase\": any(c.islower() for c in pw),\n",
    "        \"digit\": any(c.isdigit() for c in pw),\n",
    "        \"symbol\": any(c in symbols for c in pw),\n",
    "        \"no_space\": \" \" not in pw\n",
    "    }\n",
    "\n",
    "def is_valid(result: dict) -> bool:\n",
    "    return all(result.values())\n",
    "\n",
    "def main():\n",
    "    print(\"Password must be at least 10 characters, include uppercase, lowercase, digit, symbol (!@#$^&*), and no spaces.\")\n",
    "    while True:\n",
    "        pw = input(\"Enter password (or Q to quit): \")\n",
    "        if pw.lower() == \"q\":\n",
    "            print(\"Goodbye!\")\n",
    "            break\n",
    "\n",
    "        result = check_password(pw)\n",
    "        if is_valid(result):\n",
    "            print(\"Password is valid.\")\n",
    "            break\n",
    "        else:\n",
    "            print(\"Password is invalid. Issues:\")\n",
    "            for rule, passed in result.items():\n",
    "                if not passed:\n",
    "                    print(f\" - Missing or invalid: {rule}\")\n",
    "\n",
    "if __name__ == \"__main__\":\n",
    "    main()"
   ]
  },
  {
   "cell_type": "code",
   "execution_count": null,
   "id": "2515570b-0067-4c83-aaa1-034441ffa120",
   "metadata": {},
   "outputs": [],
   "source": []
  }
 ],
 "metadata": {
  "kernelspec": {
   "display_name": "Python [conda env:base] *",
   "language": "python",
   "name": "conda-base-py"
  },
  "language_info": {
   "codemirror_mode": {
    "name": "ipython",
    "version": 3
   },
   "file_extension": ".py",
   "mimetype": "text/x-python",
   "name": "python",
   "nbconvert_exporter": "python",
   "pygments_lexer": "ipython3",
   "version": "3.13.5"
  }
 },
 "nbformat": 4,
 "nbformat_minor": 5
}
