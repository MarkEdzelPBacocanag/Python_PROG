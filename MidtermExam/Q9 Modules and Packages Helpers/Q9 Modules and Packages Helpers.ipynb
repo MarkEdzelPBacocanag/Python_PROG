{
 "cells": [
  {
   "cell_type": "markdown",
   "id": "6ec379c1-e059-4361-a979-ae2c203cc22e",
   "metadata": {},
   "source": [
    "# Q9 Modules and Packages: Helpers."
   ]
  },
  {
   "cell_type": "code",
   "execution_count": 3,
   "id": "a2d6f811-39c8-4034-9a5d-2a6818bb6ee3",
   "metadata": {},
   "outputs": [
    {
     "name": "stdout",
     "output_type": "stream",
     "text": [
      "hello from alias\n",
      "15\n",
      "hello from direct import\n",
      "14\n"
     ]
    }
   ],
   "source": [
    "# Importing with alias\n",
    "import helpers.string_util as su\n",
    "import helpers.math_util as mu\n",
    "\n",
    "# Importing specific functions\n",
    "from helpers.string_util import shout\n",
    "from helpers.math_util import area\n",
    "\n",
    "# Using alias imports\n",
    "print(su.shout(\"hello from alias\"))\n",
    "print(mu.area(5, 3))\n",
    "\n",
    "# Using direct imports\n",
    "print(shout(\"hello from direct import\"))\n",
    "print(area(7, 2))"
   ]
  },
  {
   "cell_type": "markdown",
   "id": "f866fdf0-a2b5-4865-a5f9-d076110c1e1a",
   "metadata": {},
   "source": [
    "# Prompt\n",
    "\n",
    "# Critique\n",
    "-Correctness: The code correctly defines and uses the shout and area functions. Both perform their intended tasks—string uppercasing and rectangle area calculation—without error.\n",
    "\n",
    "-Complexity: he implementation is simple and appropriate for its purpose. Each function performs a single, clear task with no unnecessary logic. \n",
    "\n",
    "-Robustness: While functional, the code lacks input validation. For example: \n",
    "shout(s) assumes s is a string—passing a non-string (like None or an integer) would raise an error.\n",
    " area(l, w)assumes numeric inputs—negative or non-numeric values aren’t handled. Adding basic type checks or exception handling would improve resilience.\n",
    "\n",
    "-Readability: Excellent. The directory structure is intuitive, function names are descriptive, and the use of both import styles in main.py is clear and educational.\n",
    "\n",
    "-Faithfullness: he implementation faithfully follows your specification: two modules inside a helpers/ package, each with a single function, and a main.py  that demonstrates both import … as … and from … import ... . "
   ]
  },
  {
   "cell_type": "markdown",
   "id": "934faeec-4172-4a1a-bc1a-74e56b2bdc28",
   "metadata": {},
   "source": [
    "# Improved Code"
   ]
  },
  {
   "cell_type": "code",
   "execution_count": 4,
   "id": "ad2c0103-4b5c-40b0-824d-181dbe728ba8",
   "metadata": {},
   "outputs": [
    {
     "name": "stdout",
     "output_type": "stream",
     "text": [
      "ALIAS IMPORT\n",
      "24\n",
      "DIRECT IMPORT\n",
      "21\n"
     ]
    }
   ],
   "source": [
    "\n",
    "import helper.string_utils as su\n",
    "import helper.math_util as mu\n",
    "\n",
    "\n",
    "from helper.string_utils import shout\n",
    "from helper.math_util import area\n",
    "\n",
    "print(su.shout(\"alias import\"))\n",
    "print(mu.area(4, 6))\n",
    "\n",
    "print(shout(\"direct import\"))\n",
    "print(area(7, 3))"
   ]
  },
  {
   "cell_type": "code",
   "execution_count": null,
   "id": "b153b72c-2863-4dcf-bd85-11bbf6c82570",
   "metadata": {},
   "outputs": [],
   "source": []
  }
 ],
 "metadata": {
  "kernelspec": {
   "display_name": "Python [conda env:base] *",
   "language": "python",
   "name": "conda-base-py"
  },
  "language_info": {
   "codemirror_mode": {
    "name": "ipython",
    "version": 3
   },
   "file_extension": ".py",
   "mimetype": "text/x-python",
   "name": "python",
   "nbconvert_exporter": "python",
   "pygments_lexer": "ipython3",
   "version": "3.13.5"
  }
 },
 "nbformat": 4,
 "nbformat_minor": 5
}
