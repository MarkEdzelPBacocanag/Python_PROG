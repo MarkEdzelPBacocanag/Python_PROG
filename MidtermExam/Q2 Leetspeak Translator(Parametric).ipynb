{
 "cells": [
  {
   "cell_type": "markdown",
   "id": "8b73e5d9-2b8a-4899-acf0-809c5a343209",
   "metadata": {},
   "source": [
    "# Q2 Leespeak Translator(Parametric)"
   ]
  },
  {
   "cell_type": "code",
   "execution_count": 1,
   "id": "10aa3daf-a23a-4056-b84a-db2ce5836830",
   "metadata": {},
   "outputs": [
    {
     "name": "stdout",
     "output_type": "stream",
     "text": [
      "H3ll0, Un1v3rs3!\n"
     ]
    }
   ],
   "source": [
    "def translate(text: str, mapping: dict[str, str]) -> str:\n",
    "    \"\"\"\n",
    "    Translates lowercase letters in the input text using the provided mapping.\n",
    "    Non-lowercase characters are left unchanged.\n",
    "\n",
    "    Args:\n",
    "        text (str): The input string to translate.\n",
    "        mapping (dict[str, str]): A dictionary mapping lowercase letters to replacement strings.\n",
    "\n",
    "    Returns:\n",
    "        str: The translated string.\n",
    "    \"\"\"\n",
    "    return ''.join(mapping[char] if char in mapping else char for char in text)\n",
    "\n",
    "custom_map = {\n",
    "    'a': '@',\n",
    "    'e': '3',\n",
    "    'i': '1',\n",
    "    'o': '0',\n",
    "    'u': 'ü'\n",
    "}\n",
    "\n",
    "text = \"Hello, Universe!\"\n",
    "translated = translate(text, custom_map)\n",
    "print(translated)  # Output: H3ll0, Ün1v3rs3!"
   ]
  },
  {
   "cell_type": "markdown",
   "id": "9336b171-ff6e-4b79-b09a-21cdb43e4e3c",
   "metadata": {},
   "source": [
    "# Prompt: \n",
    "Create a translate(text: str, mapping: dict[str, str]) -> str. that applies mapping, over lowercase letters only, leaving other unchanged.\n",
    "\n",
    "# Critique \n",
    "\n",
    "-Correctness: Mapping only applies to lowercases, leaves others characters unchanged. As intended.\n",
    "\n",
    "-Complexity: O(n) where n is the length of string/ text, O(n) for the output string, built via .join().  \n",
    "\n",
    "-Robustness: No input validation. if text isn't a string or mapping.\n",
    "\n",
    "-Readability: Logic is concise. Break the generator expression into a named loop if debugging.\n",
    "\n",
    "-Faithfullness: Work as what intended where the goal is to apply mapping only to the lowered cases. "
   ]
  },
  {
   "cell_type": "markdown",
   "id": "ed109084-3c34-494e-b82e-1187e9a43567",
   "metadata": {},
   "source": [
    "# Improved Code"
   ]
  },
  {
   "cell_type": "code",
   "execution_count": 5,
   "id": "01939961-f521-4d89-9480-17b6570c53f9",
   "metadata": {},
   "outputs": [
    {
     "name": "stdout",
     "output_type": "stream",
     "text": [
      "H3ll0, W0rld!\n"
     ]
    }
   ],
   "source": [
    "def translate(text: str, mapping: dict[str, str]) -> str:\n",
    "    \"\"\"Lowered cased letters are translated while the others remains unchanged\"\"\"\n",
    "\n",
    "    return ''.join(mapping[char] if char.lower() in mapping else char for char in text)\n",
    "\n",
    "c_mapping = {\n",
    "    'a': '@',\n",
    "    'e': '3',\n",
    "    'i': '1',\n",
    "    'o': '0',\n",
    "    'u': 'ü'\n",
    "}\n",
    "\n",
    "text = \"Hello, World!\"\n",
    "translated_text = translate(text, c_mapping)\n",
    "print(translated_text)"
   ]
  },
  {
   "cell_type": "markdown",
   "id": "e8489753-b032-4f55-9352-7cf6851b2086",
   "metadata": {},
   "source": [
    "String are immutable as design reasons. Safety, Hashing, Performance, and simplicity. These can prevent accidental changes as they are often used in sets and dictionaries. immutability ensures that their values stays constant. Since python can optimize memory usage by reusing identical strings, which makes its behavior predictable. Considering string is immutable its much more efficient to use a list to collect characters, then join them once. This would prevent repeated string creation and its much more faster and memory friendly.\n"
   ]
  }
 ],
 "metadata": {
  "kernelspec": {
   "display_name": "Python [conda env:base] *",
   "language": "python",
   "name": "conda-base-py"
  },
  "language_info": {
   "codemirror_mode": {
    "name": "ipython",
    "version": 3
   },
   "file_extension": ".py",
   "mimetype": "text/x-python",
   "name": "python",
   "nbconvert_exporter": "python",
   "pygments_lexer": "ipython3",
   "version": "3.13.5"
  }
 },
 "nbformat": 4,
 "nbformat_minor": 5
}
