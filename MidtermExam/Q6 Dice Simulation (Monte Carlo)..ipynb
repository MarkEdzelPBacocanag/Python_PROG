{
 "cells": [
  {
   "cell_type": "markdown",
   "id": "88ae689c-d2f3-4fe2-b58e-459f009fe9ee",
   "metadata": {},
   "source": [
    "# Q6 Dice Simulation (Monte Carlo)."
   ]
  },
  {
   "cell_type": "markdown",
   "id": "57f5f495-1ab2-4f3e-9606-0ed42cdc33dd",
   "metadata": {},
   "source": [
    "# Prompt\n",
    "Create roll() -> int that stimulates a fair die, with 100,000 rolls to estimate the probability that sum of two dice equals 7. compare empirical result to the exact probability.\n",
    "# Chatgpt Code"
   ]
  },
  {
   "cell_type": "code",
   "execution_count": 1,
   "id": "e3523e5e-dcc1-4858-88c7-701a8651693f",
   "metadata": {},
   "outputs": [
    {
     "name": "stdout",
     "output_type": "stream",
     "text": [
      "Empirical probability of sum == 7: 0.1673\n",
      "Exact probability of sum == 7: 0.1667\n",
      "Difference: 0.0007\n"
     ]
    }
   ],
   "source": [
    "import random\n",
    "\n",
    "def roll() -> int:\n",
    "    return random.randint(1, 6)\n",
    "\n",
    "def estimate_probability(target_sum: int = 7, trials: int = 100_000) -> None:\n",
    "    count = 0\n",
    "    for _ in range(trials):\n",
    "        if roll() + roll() == target_sum:\n",
    "            count += 1\n",
    "\n",
    "    empirical = count / trials\n",
    "    exact = 6 / 36  # There are 6 combinations that sum to 7 out of 36 total\n",
    "    print(f\"Empirical probability of sum == {target_sum}: {empirical:.4f}\")\n",
    "    print(f\"Exact probability of sum == {target_sum}: {exact:.4f}\")\n",
    "    print(f\"Difference: {abs(empirical - exact):.4f}\")\n",
    "\n",
    "if __name__ == \"__main__\":\n",
    "    estimate_probability()"
   ]
  },
  {
   "cell_type": "markdown",
   "id": "155e2ab8-27f3-4783-a338-fca27fca144f",
   "metadata": {},
   "source": [
    "# Critqiue\n",
    "\n",
    "-Correctness: The program correctly simulates a fair die using random.randint(1,6) and performs 100,000 trials to estimate the probability that the sum of two dice equals 7. It accurately compares the empirical result to the theoretical probability of ( \\frac{6}{36} = 0.1667 ), which reflects the six favorable outcomes out of 36 total combinations.\n",
    "\n",
    "-Complexity: The simulation runs in linear time—O(n)— where n is the number of trials. Each iteration performs two constant-time operations (rolling two dice), making it efficient even for large sample sizes like 100,000.\n",
    "\n",
    "-Robustness: The code handles the simulation reliably but assumes ideal conditions (e.g., no input errors, fixed trial count). It could be improved by allowing user-defined trial counts, validating inputs, or seeding the random generator for reproducibility in testing scenarios.\n",
    "\n",
    "-Readability: The function is well-structured and easy to follow. Variable names like count, trials, and target_sum are clear, and the output is formatted for quick comparison. \n",
    "\n",
    "-Faithfullness: The implementation stays true to its goal: simulating fair dice rolls and estimating a specific probability. It uses standard Python tools appropriately and avoids unnecessary complexity, making it a faithful and educational representation of empirical probability testing."
   ]
  },
  {
   "cell_type": "markdown",
   "id": "90edbf1d-c4c3-4452-905f-ed56d20528eb",
   "metadata": {},
   "source": [
    "# Improved Code"
   ]
  },
  {
   "cell_type": "code",
   "execution_count": 2,
   "id": "c0297f50-7158-4670-a332-57185b7530dc",
   "metadata": {},
   "outputs": [
    {
     "name": "stdout",
     "output_type": "stream",
     "text": [
      "Empirical probability: 0.1687\n",
      "Exact probability:     0.1667\n",
      "Difference:            0.0020\n"
     ]
    }
   ],
   "source": [
    "import random\n",
    "\n",
    "def roll():\n",
    "    return random.randint(1, 6)\n",
    "\n",
    "count = 0\n",
    "trials = 100_000\n",
    "\n",
    "for _ in range(trials):\n",
    "    if roll() + roll() == 7:\n",
    "        count += 1\n",
    "\n",
    "empirical = count / trials\n",
    "exact = 6 / 36\n",
    "\n",
    "print(f\"Empirical probability: {empirical:.4f}\")\n",
    "print(f\"Exact probability:     {exact:.4f}\")\n",
    "print(f\"Difference:            {abs(empirical - exact):.4f}\")"
   ]
  },
  {
   "cell_type": "markdown",
   "id": "895ff6d4-1bb1-4c5b-8daa-0c1c0a461d03",
   "metadata": {},
   "source": [
    "Use random.seed() when you need repeatable results—especially in simulations, testing, or academic work. Omit it when you want true randomness across runs, like in games or cryptographic applications."
   ]
  },
  {
   "cell_type": "code",
   "execution_count": null,
   "id": "60a71444-0a22-4da2-a7dd-160141abe26f",
   "metadata": {},
   "outputs": [],
   "source": []
  }
 ],
 "metadata": {
  "kernelspec": {
   "display_name": "Python [conda env:base] *",
   "language": "python",
   "name": "conda-base-py"
  },
  "language_info": {
   "codemirror_mode": {
    "name": "ipython",
    "version": 3
   },
   "file_extension": ".py",
   "mimetype": "text/x-python",
   "name": "python",
   "nbconvert_exporter": "python",
   "pygments_lexer": "ipython3",
   "version": "3.13.5"
  }
 },
 "nbformat": 4,
 "nbformat_minor": 5
}
