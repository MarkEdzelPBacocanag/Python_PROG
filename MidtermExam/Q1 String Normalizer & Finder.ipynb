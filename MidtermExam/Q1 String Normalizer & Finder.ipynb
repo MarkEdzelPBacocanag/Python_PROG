{
 "cells": [
  {
   "cell_type": "markdown",
   "id": "10774b09-8299-439b-adc9-6e390343e54b",
   "metadata": {},
   "source": [
    "# Q1 String Normalizer & finder"
   ]
  },
  {
   "cell_type": "markdown",
   "id": "620c2c4c-3ca6-4fce-936e-21c6623e4807",
   "metadata": {},
   "source": [
    "# Prompt \n",
    "Create a function that trims whitespace both ends, converts to lowercase, returns the index of the first occurrence of needle using a safe search.\n",
    "\n",
    "# GPT code"
   ]
  },
  {
   "cell_type": "code",
   "execution_count": 3,
   "id": "8d4b680f-8b4f-4c8c-9c89-3c1d98750946",
   "metadata": {},
   "outputs": [
    {
     "name": "stdout",
     "output_type": "stream",
     "text": [
      "6\n"
     ]
    }
   ],
   "source": [
    "def safe_find(haystack: str, needle: str) -> int:\n",
    "    \"\"\"\n",
    "    Trims whitespace, converts to lowercase, and safely finds the first index of needle.\n",
    "    \n",
    "    Args:\n",
    "        haystack (str): The string to search within.\n",
    "        needle (str): The substring to search for.\n",
    "    \n",
    "    Returns:\n",
    "        int: Index of first occurrence of needle, or -1 if not found.\n",
    "    \"\"\"\n",
    "    cleaned_haystack = haystack.strip().lower()\n",
    "    cleaned_needle = needle.strip().lower()\n",
    "    return cleaned_haystack.find(cleaned_needle)\n",
    "\n",
    "text = \"   Hello World!   \"\n",
    "query = \"world\"\n",
    "index = safe_find(text, query)\n",
    "print(index)  # Output: 6"
   ]
  },
  {
   "cell_type": "markdown",
   "id": "77ac1489-d646-47dc-8c8e-863be60db058",
   "metadata": {},
   "source": [
    "# Critique \n",
    "\n",
    "-Correctness: It converts both into lower and trims the whitespaces both ends. Also safely returns -1 if the substring aren't found, but it has no error handling when non-string is inputted.\n",
    "\n",
    "-Complexity: O(n) length of haystack, O(1)additional space... due to single pass .find() Operation and aside from trimmed and lowered copies of the strings.\n",
    "\n",
    "-Robustness: There's no input validation. If the users inputs non-string value it'll crash the program.\n",
    "\n",
    "-Readability: follows commond search metaphors, logic is concise and easy to follow.\n",
    "\n",
    "-Faithfulness: Uses .strip() and .lower(). Relies on python's built in .find(), Avoids unnecessary loops\n"
   ]
  },
  {
   "cell_type": "markdown",
   "id": "47e56768-ffff-4a89-b57b-458e77358985",
   "metadata": {},
   "source": [
    "# Improved Code"
   ]
  },
  {
   "cell_type": "code",
   "execution_count": 4,
   "id": "88513a1c-6f1b-422e-9a42-964054a981f7",
   "metadata": {},
   "outputs": [
    {
     "name": "stdout",
     "output_type": "stream",
     "text": [
      "Substring found at index 7\n"
     ]
    }
   ],
   "source": [
    "def safe_find(text: str, needle: str) -> int:\n",
    "    \"\"\"Trims both ends and convert into lower cases returns -1 if the substring is not found\"\"\"\n",
    "\n",
    "    converted_text = text.strip().lower()\n",
    "    converted_needle = needle.strip().lower()\n",
    "    return str(converted_text.find(converted_needle))\n",
    "\n",
    "test = \"Hello, World\"\n",
    "query = \"world\"\n",
    "\n",
    "if not isinstance(test, str) or not isinstance(query, str):\n",
    "    print(\"Input not valid. Please enter a string/ Character\")\n",
    "else:\n",
    "    index = safe_find(test, query)\n",
    "    if index != -1:\n",
    "        print(f\"Substring found at index {index}\")\n",
    "    else:\n",
    "        print(\"Substring not found\")\n"
   ]
  },
  {
   "cell_type": "markdown",
   "id": "13542456-1c14-4beb-8c7e-3059f02e3433",
   "metadata": {},
   "source": [
    "The .find() vs .index()\n",
    "\n",
    ".find()\n",
    "-return -1 when substring is not found.\n",
    "used when failure is expected or handled manually\n",
    "\n",
    ".index()\n",
    "-Raises valueError\n",
    "used when failure should interrupt or be caught\n",
    "\n",
    "with .find() as my choice it does not raises ValueError, it only returns -1 if it's not found which it does not require try/except blocks. the negative side is that if it fails I won't know why something failed."
   ]
  },
  {
   "cell_type": "code",
   "execution_count": null,
   "id": "96b667a1-2b52-49b1-8f04-9437b579c774",
   "metadata": {},
   "outputs": [],
   "source": []
  }
 ],
 "metadata": {
  "kernelspec": {
   "display_name": "Python [conda env:base] *",
   "language": "python",
   "name": "conda-base-py"
  },
  "language_info": {
   "codemirror_mode": {
    "name": "ipython",
    "version": 3
   },
   "file_extension": ".py",
   "mimetype": "text/x-python",
   "name": "python",
   "nbconvert_exporter": "python",
   "pygments_lexer": "ipython3",
   "version": "3.13.5"
  }
 },
 "nbformat": 4,
 "nbformat_minor": 5
}
