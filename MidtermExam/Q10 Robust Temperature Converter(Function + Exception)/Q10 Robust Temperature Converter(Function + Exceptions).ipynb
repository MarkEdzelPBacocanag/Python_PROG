{
 "cells": [
  {
   "cell_type": "markdown",
   "id": "21cd5479-8504-4a3a-ba77-3dafc0a4061c",
   "metadata": {},
   "source": [
    "# Q10 Robust Temperature Converter(Function + Exception)"
   ]
  },
  {
   "cell_type": "code",
   "execution_count": 3,
   "id": "f72191d7-cac2-4ec9-9ff0-9c0d831c9685",
   "metadata": {},
   "outputs": [],
   "source": [
    "def cel_to_far(c: float) -> float:\n",
    "    \"\"\"Convert Celsius to Fahrenheit.\"\"\"\n",
    "    return (c * 9 / 5) + 32\n",
    "\n",
    "def far_to_cel(f: float) -> float:\n",
    "    \"\"\"Convert Fahrenheit to Celsius.\"\"\"\n",
    "    return (f - 32) * 5 / 9"
   ]
  },
  {
   "cell_type": "code",
   "execution_count": 5,
   "id": "ea80e42b-fe2c-438d-9778-b30045d1275c",
   "metadata": {},
   "outputs": [
    {
     "name": "stdout",
     "output_type": "stream",
     "text": [
      "Temperature Converter\n",
      "1: Celsius to Fahrenheit\n",
      "2: Fahrenheit to Celsius\n"
     ]
    },
    {
     "name": "stdin",
     "output_type": "stream",
     "text": [
      "Choose conversion (1 or 2):  2\n",
      "Enter temperature:  132\n"
     ]
    },
    {
     "name": "stdout",
     "output_type": "stream",
     "text": [
      "132.0°F is 55.56°C\n"
     ]
    }
   ],
   "source": [
    "def run_cli():\n",
    "    print(\"Temperature Converter\")\n",
    "    print(\"1: Celsius to Fahrenheit\")\n",
    "    print(\"2: Fahrenheit to Celsius\")\n",
    "\n",
    "    choice = input(\"Choose conversion (1 or 2): \").strip()\n",
    "    if choice not in {\"1\", \"2\"}:\n",
    "        print(\"Invalid choice. Please enter 1 or 2.\")\n",
    "        return\n",
    "\n",
    "    temp_input = input(\"Enter temperature: \").strip()\n",
    "    try:\n",
    "        temp = float(temp_input)\n",
    "    except ValueError:\n",
    "        print(\"Invalid temperature. Please enter a numeric value.\")\n",
    "        return\n",
    "\n",
    "    if choice == \"1\":\n",
    "        result = cel_to_far(temp)\n",
    "        print(f\"{temp}°C is {result:.2f}°F\")\n",
    "    else:\n",
    "        result = far_to_cel(temp)\n",
    "        print(f\"{temp}°F is {result:.2f}°C\")\n",
    "\n",
    "# Run this cell to activate the CLI\n",
    "run_cli()"
   ]
  },
  {
   "cell_type": "code",
   "execution_count": 4,
   "id": "88546f60-86c2-4702-beab-538eb4e28334",
   "metadata": {},
   "outputs": [
    {
     "name": "stderr",
     "output_type": "stream",
     "text": [
      "...\n",
      "----------------------------------------------------------------------\n",
      "Ran 3 tests in 0.003s\n",
      "\n",
      "OK\n"
     ]
    },
    {
     "data": {
      "text/plain": [
       "<unittest.runner.TextTestResult run=3 errors=0 failures=0>"
      ]
     },
     "execution_count": 4,
     "metadata": {},
     "output_type": "execute_result"
    }
   ],
   "source": [
    "import unittest\n",
    "\n",
    "class TestTemperatureConverter(unittest.TestCase):\n",
    "    def test_cel_to_far_typical(self):\n",
    "        self.assertAlmostEqual(cel_to_far(0), 32.0)\n",
    "        self.assertAlmostEqual(cel_to_far(100), 212.0)\n",
    "        self.assertAlmostEqual(cel_to_far(37), 98.6, places=1)\n",
    "\n",
    "    def test_far_to_cel_typical(self):\n",
    "        self.assertAlmostEqual(far_to_cel(32), 0.0)\n",
    "        self.assertAlmostEqual(far_to_cel(212), 100.0)\n",
    "        self.assertAlmostEqual(far_to_cel(98.6), 37.0, places=1)\n",
    "\n",
    "    def test_edge_case_negative_40(self):\n",
    "        self.assertAlmostEqual(cel_to_far(-40), -40.0)\n",
    "        self.assertAlmostEqual(far_to_cel(-40), -40.0)\n",
    "\n",
    "# Run this cell to execute tests\n",
    "suite = unittest.TestLoader().loadTestsFromTestCase(TestTemperatureConverter)\n",
    "unittest.TextTestRunner().run(suite)"
   ]
  },
  {
   "cell_type": "markdown",
   "id": "5c76ee47-708a-45be-b8c0-85697531b265",
   "metadata": {},
   "source": [
    "# Prompt: \n",
    "Write two functions: cel_to_far(c) and far_to_cel(f) with type hints and docstrings. Build a CLI that asks the user which direction to convert and validates input. Include unit tests covering typical 3 and edge cases (e.g.,-40).  \n",
    "\n",
    "# Critique\n",
    "-Correctness: The conversion functions  and  use the correct formulas and return accurate results. The CLI simulation behaves as expected, and the unit tests confirm both typical and edge-case behavior. \n",
    "\n",
    "-Complexity: The code maintains minimal complexity while covering all required functionality. Each function is single-purpose, and the CLI logic is linear and easy to follow. The test suite is compact yet comprehensive, avoiding unnecessary abstraction.\n",
    "\n",
    "-Robustness: Input validation is present in the CLI, but limited to a single attempt. There's no retry loop or feedback for invalid numeric formats beyond a single error message. The conversion functions themselves assume valid float input—adding internal type checks or exception handling would improve resilience if reused outside the CLI.\n",
    "\n",
    "-Readability: Excellent. Function names are intuitive, docstrings are concise and informative, and the CLI prompts are clear. The test cases are logically grouped and easy to interpret.\n",
    "\n",
    "-Faithfullness: Fully faithful to your specification: Two conversion functions with type hints and docstrings, A CLI that asks for direction and validates input, Unit tests covering three typical cases and the edge case of -40\n"
   ]
  },
  {
   "cell_type": "markdown",
   "id": "5e571b9a-aaa1-4be2-bb67-d579417f2c8a",
   "metadata": {},
   "source": [
    "# Improved Code"
   ]
  },
  {
   "cell_type": "code",
   "execution_count": 7,
   "id": "94d35190-c236-440b-b617-92508469fcad",
   "metadata": {},
   "outputs": [
    {
     "name": "stdin",
     "output_type": "stream",
     "text": [
      "Convert (C)elsius to Fahrenheit or (F)ahrenheit to Celsius?  f\n",
      "Enter the temperature:  1234\n"
     ]
    },
    {
     "name": "stdout",
     "output_type": "stream",
     "text": [
      "1234.0°F = 667.78°C\n"
     ]
    }
   ],
   "source": [
    "def cel_to_far(c: float) -> float:\n",
    "    \"\"\"Convert Celsius to Fahrenheit.\"\"\"\n",
    "    return round((c * 9 / 5) + 32, 2)\n",
    "\n",
    "def far_to_cel(f: float) -> float:\n",
    "    \"\"\"Convert Fahrenheit to Celsius.\"\"\"\n",
    "    return round((f - 32) * 5 / 9, 2)\n",
    "\n",
    "\n",
    "def convert_temperature():\n",
    "    direction = input(\"Convert (C)elsius to Fahrenheit or (F)ahrenheit to Celsius? \").strip().lower()\n",
    "    if direction not in {\"c\", \"f\"}:\n",
    "        print(\"Please enter 'C' or 'F'.\")\n",
    "        return\n",
    "\n",
    "    try:\n",
    "        temp = float(input(\"Enter the temperature: \").strip())\n",
    "    except ValueError:\n",
    "        print(\"Invalid number.\")\n",
    "        return\n",
    "\n",
    "    if direction == \"c\":\n",
    "        print(f\"{temp}°C = {cel_to_far(temp)}°F\")\n",
    "    else:\n",
    "        print(f\"{temp}°F = {far_to_cel(temp)}°C\")\n",
    "\n",
    "\n",
    "convert_temperature()"
   ]
  },
  {
   "cell_type": "code",
   "execution_count": 8,
   "id": "3de938da-d469-42d1-b4fc-aea5de983e0b",
   "metadata": {},
   "outputs": [
    {
     "name": "stdout",
     "output_type": "stream",
     "text": [
      "Testing cel_to_far...\n",
      "32.0 == 32.0\n",
      "212.0 == 212.0\n",
      "-40.0 == -40.0\n",
      "Testing far_to_cel...\n",
      "0.0 == 0.0\n",
      "100.0 == 100.0\n",
      "-40.0 == -40.0\n"
     ]
    }
   ],
   "source": [
    "    print(\"Testing cel_to_far...\")\n",
    "print(cel_to_far(0), \"== 32.0\")\n",
    "print(cel_to_far(100), \"== 212.0\")\n",
    "print(cel_to_far(-40), \"== -40.0\")\n",
    "\n",
    "print(\"Testing far_to_cel...\")\n",
    "print(far_to_cel(32), \"== 0.0\")\n",
    "print(far_to_cel(212), \"== 100.0\")\n",
    "print(far_to_cel(-40), \"== -40.0\")"
   ]
  },
  {
   "cell_type": "code",
   "execution_count": null,
   "id": "8bc759ea-9bba-4927-bb60-ec4313e51146",
   "metadata": {},
   "outputs": [],
   "source": []
  }
 ],
 "metadata": {
  "kernelspec": {
   "display_name": "Python [conda env:base] *",
   "language": "python",
   "name": "conda-base-py"
  },
  "language_info": {
   "codemirror_mode": {
    "name": "ipython",
    "version": 3
   },
   "file_extension": ".py",
   "mimetype": "text/x-python",
   "name": "python",
   "nbconvert_exporter": "python",
   "pygments_lexer": "ipython3",
   "version": "3.13.5"
  }
 },
 "nbformat": 4,
 "nbformat_minor": 5
}
