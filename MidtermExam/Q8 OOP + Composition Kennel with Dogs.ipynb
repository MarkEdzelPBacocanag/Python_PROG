{
 "cells": [
  {
   "cell_type": "markdown",
   "id": "e4116784-4bb9-4310-ac43-ab2fca8cc058",
   "metadata": {},
   "source": [
    "# Q8 OOP + Composition Kennel with Dogs"
   ]
  },
  {
   "cell_type": "code",
   "execution_count": 1,
   "id": "005b90f0-584b-4e64-9b15-8916d54fdfae",
   "metadata": {},
   "outputs": [
    {
     "name": "stdout",
     "output_type": "stream",
     "text": [
      "Added Buddy to the kennel.\n",
      "Added Max to the kennel.\n",
      "Added Bella to the kennel.\n",
      "Buddy says: Woof!\n",
      "The oldest dog is Max, age 8.\n",
      "Labradors in the kennel:\n",
      "- Buddy, age 5\n",
      "- Bella, age 3\n",
      "Removed Max from the kennel.\n"
     ]
    }
   ],
   "source": [
    "class Dog:\n",
    "    def __init__(self, name, age, breed):\n",
    "        self.name = name\n",
    "        self.age = age\n",
    "        self.breed = breed\n",
    "\n",
    "    def bark(self):\n",
    "        print(f\"{self.name} says: Woof!\")\n",
    "\n",
    "class Kennel:\n",
    "    def __init__(self):\n",
    "        self.dogs = []\n",
    "\n",
    "    def add_dog(self, dog):\n",
    "        self.dogs.append(dog)\n",
    "        print(f\"Added {dog.name} to the kennel.\")\n",
    "\n",
    "    def remove_dog(self, name):\n",
    "        self.dogs = [dog for dog in self.dogs if dog.name != name]\n",
    "        print(f\"Removed {name} from the kennel.\")\n",
    "\n",
    "    def oldest_dog(self):\n",
    "        if not self.dogs:\n",
    "            return None\n",
    "        return max(self.dogs, key=lambda d: d.age)\n",
    "\n",
    "    def find_by_breed(self, breed):\n",
    "        return [dog for dog in self.dogs if dog.breed.lower() == breed.lower()]\n",
    "\n",
    "if __name__ == \"__main__\":\n",
    "    # Create dogs\n",
    "    d1 = Dog(\"Buddy\", 5, \"Labrador\")\n",
    "    d2 = Dog(\"Max\", 8, \"Beagle\")\n",
    "    d3 = Dog(\"Bella\", 3, \"Labrador\")\n",
    "\n",
    "    # Create kennel and add dogs\n",
    "    kennel = Kennel()\n",
    "    kennel.add_dog(d1)\n",
    "    kennel.add_dog(d2)\n",
    "    kennel.add_dog(d3)\n",
    "\n",
    "    # Bark\n",
    "    d1.bark()\n",
    "\n",
    "    # Find oldest dog\n",
    "    oldest = kennel.oldest_dog()\n",
    "    if oldest:\n",
    "        print(f\"The oldest dog is {oldest.name}, age {oldest.age}.\")\n",
    "\n",
    "    # Find by breed\n",
    "    labs = kennel.find_by_breed(\"Labrador\")\n",
    "    print(\"Labradors in the kennel:\")\n",
    "    for dog in labs:\n",
    "        print(f\"- {dog.name}, age {dog.age}\")\n",
    "\n",
    "    # Remove a dog\n",
    "    kennel.remove_dog(\"Max\")"
   ]
  },
  {
   "cell_type": "markdown",
   "id": "d33c95e5-0b56-492a-b12e-221318d41eb9",
   "metadata": {},
   "source": [
    "# Prompt\n",
    "Create a Dog class(name, age, breed, bark()). implement a Kennel manager that holds multiple Dog instances, supports add_dog, remove_dog, oldest_dog(), and find_by_breed(breed).\n",
    "# Critique\n",
    "-Correctness: The code correctly models individual dogs with attributes (name, age, breed) and behavior (bark()), and the kennel class manages a collection of dogs with methods to add, remove, search, and identify the oldest. Each method performs its intended function accurately, and the logic for filtering and comparison is sound.\n",
    "\n",
    "-Complexity: The implementation maintains low algorithmic complexity. Most operations—like adding, removing, and searching—are linear in time (O(n)), which is appropriate for small to medium collections. The use of list comprehensions and max() with a key function keeps the code concise and efficient.\n",
    "\n",
    "-Robustness: The code handles basic use cases well but could be improved by adding error handling—for example, notifying if a dog to be removed isn’t found, or if oldest_dog() is called on an empty kennel.\n",
    "\n",
    "-Readability: The code is clean and easy to follow. Class and method names are intuitive, and the test script clearly demonstrates functionality.\n",
    "\n",
    "-Faithfullness: The design stays true to object-oriented principles. It separates concerns between individual dog behavior and kennel management, avoids duplication, and uses encapsulation effectively."
   ]
  },
  {
   "cell_type": "markdown",
   "id": "5b47a70c-8f7c-4b6c-a4a0-ce343bd17583",
   "metadata": {},
   "source": [
    "# Improved Code"
   ]
  },
  {
   "cell_type": "code",
   "execution_count": 3,
   "id": "f15c70f4-33be-4d81-b852-5b0b4accc39f",
   "metadata": {},
   "outputs": [
    {
     "name": "stdout",
     "output_type": "stream",
     "text": [
      "Buddy says: Woof!\n",
      "Oldest: Max, age 8\n",
      "Labradors:\n",
      "- Buddy, age 5\n",
      "- Bella, age 3\n"
     ]
    }
   ],
   "source": [
    "class Dog:\n",
    "    def __init__(self, name, age, breed):\n",
    "        self.name = name\n",
    "        self.age = age\n",
    "        self.breed = breed\n",
    "\n",
    "    def bark(self):\n",
    "        print(f\"{self.name} says: Woof!\")\n",
    "\n",
    "class Kennel:\n",
    "    def __init__(self):\n",
    "        self.dogs = []\n",
    "\n",
    "    def add_dog(self, dog):\n",
    "        self.dogs.append(dog)\n",
    "\n",
    "    def remove_dog(self, name):\n",
    "        self.dogs = [d for d in self.dogs if d.name != name]\n",
    "\n",
    "    def oldest_dog(self):\n",
    "        return max(self.dogs, key=lambda d: d.age, default=None)\n",
    "\n",
    "    def find_by_breed(self, breed):\n",
    "        return [d for d in self.dogs if d.breed.lower() == breed.lower()]\n",
    "\n",
    "if __name__ == \"__main__\":\n",
    "    kennel = Kennel()\n",
    "    kennel.add_dog(Dog(\"Buddy\", 5, \"Labrador\"))\n",
    "    kennel.add_dog(Dog(\"Max\", 8, \"Beagle\"))\n",
    "    kennel.add_dog(Dog(\"Bella\", 3, \"Labrador\"))\n",
    "\n",
    "    \n",
    "    kennel.dogs[0].bark()\n",
    "\n",
    "    \n",
    "    oldest = kennel.oldest_dog()\n",
    "    if oldest:\n",
    "        print(f\"Oldest: {oldest.name}, age {oldest.age}\")\n",
    "\n",
    "    \n",
    "    labs = kennel.find_by_breed(\"Labrador\")\n",
    "    print(\"Labradors:\")\n",
    "    for dog in labs:\n",
    "        print(f\"- {dog.name}, age {dog.age}\")\n",
    "\n",
    "    \n",
    "    kennel.remove_dog(\"Max\")"
   ]
  },
  {
   "cell_type": "markdown",
   "id": "cb49df35-020b-4219-aed6-e5b47a8c12fd",
   "metadata": {},
   "source": [
    "The Dog class defines each dog with a name, age, and breed, along with a bark behavior, while the Kennel class manages a collection of dogs—allowing you to add or remove dogs, find the oldest one, and search by breed—all in a clean, readable structure that demonstrates basic object-oriented design."
   ]
  },
  {
   "cell_type": "code",
   "execution_count": null,
   "id": "7eb33601-be95-49e0-9cde-d12b839dc2bd",
   "metadata": {},
   "outputs": [],
   "source": []
  }
 ],
 "metadata": {
  "kernelspec": {
   "display_name": "Python [conda env:base] *",
   "language": "python",
   "name": "conda-base-py"
  },
  "language_info": {
   "codemirror_mode": {
    "name": "ipython",
    "version": 3
   },
   "file_extension": ".py",
   "mimetype": "text/x-python",
   "name": "python",
   "nbconvert_exporter": "python",
   "pygments_lexer": "ipython3",
   "version": "3.13.5"
  }
 },
 "nbformat": 4,
 "nbformat_minor": 5
}
