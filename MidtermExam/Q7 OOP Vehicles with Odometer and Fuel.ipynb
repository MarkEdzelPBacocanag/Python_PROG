{
 "cells": [
  {
   "cell_type": "markdown",
   "id": "6b144873-6aad-4f5a-9dc7-eff0cdd896bc",
   "metadata": {},
   "source": [
    "# Q7 OOP: Vehicles with Odometer and Fuel."
   ]
  },
  {
   "cell_type": "markdown",
   "id": "cd9e6c39-7584-411c-8e4e-91ce3864735b",
   "metadata": {},
   "source": [
    "# Prompt\n",
    "Create a vehicle(parent), Car and Truck(child). Each has color, mileage, and fuel_liters. provide drive(km, km_per_liters) which increments mileage and drecrements fuel (never below 0) and refuel(liters). Show how inheritance avoids duplication and add a method override in truck (e.g. different efficiency). include a minimal test script.\n",
    "# Chatgpt Code"
   ]
  },
  {
   "cell_type": "code",
   "execution_count": 1,
   "id": "5020298e-7da6-4c07-9b1a-86b2d19bc2ce",
   "metadata": {},
   "outputs": [
    {
     "name": "stdout",
     "output_type": "stream",
     "text": [
      "Car drove 100.0 km. Fuel left: 10.0 L\n",
      "Truck uses lower fuel efficiency (3.0 km/L)\n",
      "Truck drove 100.0 km. Fuel left: 16.7 L\n",
      "Car refueled 5.0 L. Total fuel: 15.0 L\n",
      "Truck refueled 10.0 L. Total fuel: 26.7 L\n"
     ]
    }
   ],
   "source": [
    "class Vehicle:\n",
    "    def __init__(self, color: str, mileage: float = 0.0, fuel_liters: float = 0.0):\n",
    "        self.color = color\n",
    "        self.mileage = mileage\n",
    "        self.fuel_liters = fuel_liters\n",
    "\n",
    "    def drive(self, km: float, km_per_liter: float):\n",
    "        max_distance = self.fuel_liters * km_per_liter\n",
    "        actual_km = min(km, max_distance)\n",
    "        fuel_used = actual_km / km_per_liter\n",
    "\n",
    "        self.mileage += actual_km\n",
    "        self.fuel_liters -= fuel_used\n",
    "        self.fuel_liters = max(self.fuel_liters, 0)\n",
    "\n",
    "        print(f\"{self.__class__.__name__} drove {actual_km:.1f} km. Fuel left: {self.fuel_liters:.1f} L\")\n",
    "\n",
    "    def refuel(self, liters: float):\n",
    "        self.fuel_liters += liters\n",
    "        print(f\"{self.__class__.__name__} refueled {liters:.1f} L. Total fuel: {self.fuel_liters:.1f} L\")\n",
    "\n",
    "class Car(Vehicle):\n",
    "    pass  # Inherits everything as-is\n",
    "\n",
    "class Truck(Vehicle):\n",
    "    def drive(self, km: float, km_per_liter: float = 3.0):  # Default lower efficiency\n",
    "        print(f\"Truck uses lower fuel efficiency ({km_per_liter} km/L)\")\n",
    "        super().drive(km, km_per_liter)\n",
    "\n",
    "if __name__ == \"__main__\":\n",
    "    car = Car(color=\"Red\", mileage=1000, fuel_liters=20)\n",
    "    truck = Truck(color=\"Blue\", mileage=5000, fuel_liters=50)\n",
    "\n",
    "    car.drive(100, km_per_liter=10)   # Should use 10 L\n",
    "    truck.drive(100)                  # Uses default 3 km/L → should use ~33.3 L\n",
    "\n",
    "    car.refuel(5)\n",
    "    truck.refuel(10)"
   ]
  },
  {
   "cell_type": "markdown",
   "id": "a7c6f1cb-7a9a-4bde-8d5c-bea0fd8ee075",
   "metadata": {},
   "source": [
    "# Critqiue\n",
    "\n",
    "-Correctness: The implementation correctly models a base Vehicle class with shared attributes (color, mileage, fuel_liters ) and shared methods (drive, refuel ). The Truck class overrides drive() to reflect lower fuel efficiency, and the logic ensures fuel never drops below zero. The mileage updates accurately based on actual drivable distance.\n",
    "\n",
    "-Complexity: The code maintains low complexity. Each method performs a single, clear task.\n",
    "\n",
    "-Robustness: The classes handle edge cases like insufficient fuel gracefully. However, the code could be improved by adding input validation (e.g., preventing negative values for km, liters, or km_per_liter) and optionally enforcing maximum fuel tank capacity. These additions would make the system more resilient in real-world scenarios.\n",
    "\n",
    "-Readability: The code is clean and well-structured. Class and method names are intuitive, and print statements provide clear feedback during simulation.\n",
    "\n",
    "-Faithfullness: The design stays true to object-oriented principles. Inheritance is used effectively to avoid duplication, and method overriding in Truck reflects domain-specific behavior. The test script demonstrates usage clearly and reinforces the benefits of abstraction and specialization.\n"
   ]
  },
  {
   "cell_type": "markdown",
   "id": "7684c494-069b-4422-8fa3-887d8e1f1e07",
   "metadata": {},
   "source": [
    "# Improved Code"
   ]
  },
  {
   "cell_type": "code",
   "execution_count": 2,
   "id": "d93ffd6b-9f23-4f10-aa95-123355301f26",
   "metadata": {},
   "outputs": [
    {
     "name": "stdout",
     "output_type": "stream",
     "text": [
      "Car drove 100.0 km. Fuel left: 10.0 L\n",
      "Truck uses lower fuel efficiency.\n",
      "Truck drove 100.0 km. Fuel left: 16.7 L\n",
      "Car refueled 5.0 L. Total fuel: 15.0 L\n",
      "Truck refueled 10.0 L. Total fuel: 26.7 L\n"
     ]
    }
   ],
   "source": [
    "class Vehicle:\n",
    "    def __init__(self, color, mileage=0, fuel_liters=0):\n",
    "        self.color = color\n",
    "        self.mileage = mileage\n",
    "        self.fuel_liters = fuel_liters\n",
    "\n",
    "    def drive(self, km, km_per_liter):\n",
    "        max_km = self.fuel_liters * km_per_liter\n",
    "        actual_km = min(km, max_km)\n",
    "        self.mileage += actual_km\n",
    "        self.fuel_liters = max(self.fuel_liters - actual_km / km_per_liter, 0)\n",
    "        print(f\"{self.__class__.__name__} drove {actual_km:.1f} km. Fuel left: {self.fuel_liters:.1f} L\")\n",
    "\n",
    "    def refuel(self, liters):\n",
    "        self.fuel_liters += liters\n",
    "        print(f\"{self.__class__.__name__} refueled {liters:.1f} L. Total fuel: {self.fuel_liters:.1f} L\")\n",
    "\n",
    "class Car(Vehicle):\n",
    "    pass \n",
    "\n",
    "class Truck(Vehicle):\n",
    "    def drive(self, km, km_per_liter=3): \n",
    "        print(\"Truck uses lower fuel efficiency.\")\n",
    "        super().drive(km, km_per_liter)\n",
    "\n",
    "if __name__ == \"__main__\":\n",
    "    car = Car(\"Red\", mileage=1000, fuel_liters=20)\n",
    "    truck = Truck(\"Blue\", mileage=5000, fuel_liters=50)\n",
    "\n",
    "    car.drive(100, km_per_liter=10)  \n",
    "    truck.drive(100)                 \n",
    "\n",
    "    car.refuel(5)\n",
    "    truck.refuel(10)"
   ]
  },
  {
   "cell_type": "code",
   "execution_count": null,
   "id": "0a80a1c2-f5f9-480e-a151-a8414900e814",
   "metadata": {},
   "outputs": [],
   "source": []
  }
 ],
 "metadata": {
  "kernelspec": {
   "display_name": "Python [conda env:base] *",
   "language": "python",
   "name": "conda-base-py"
  },
  "language_info": {
   "codemirror_mode": {
    "name": "ipython",
    "version": 3
   },
   "file_extension": ".py",
   "mimetype": "text/x-python",
   "name": "python",
   "nbconvert_exporter": "python",
   "pygments_lexer": "ipython3",
   "version": "3.13.5"
  }
 },
 "nbformat": 4,
 "nbformat_minor": 5
}
